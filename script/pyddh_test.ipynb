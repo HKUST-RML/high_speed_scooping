{
 "cells": [
  {
   "cell_type": "code",
   "execution_count": null,
   "id": "05662e0c",
   "metadata": {},
   "outputs": [],
   "source": [
    "import sys\n",
    "sys.path.append('/home/john/pyddh')"
   ]
  },
  {
   "cell_type": "code",
   "execution_count": null,
   "id": "8774195c",
   "metadata": {},
   "outputs": [],
   "source": [
    "from pyddh import DDGripper, LslStreamer\n",
    "gripper = DDGripper('ddh_default')\n",
    "streamer = LslStreamer(gripper)"
   ]
  },
  {
   "cell_type": "code",
   "execution_count": 1,
   "id": "7e7b0aca",
   "metadata": {},
   "outputs": [
    {
     "name": "stdout",
     "output_type": "stream",
     "text": [
      "importing urx from local\n"
     ]
    }
   ],
   "source": [
    "import sys\n",
    "sys.path.insert(0,'..')\n",
    "import urx"
   ]
  },
  {
   "cell_type": "code",
   "execution_count": 2,
   "id": "9cd98900",
   "metadata": {},
   "outputs": [
    {
     "name": "stderr",
     "output_type": "stream",
     "text": [
      "tried 11 times to find a packet in data, advertised packet size: -2, type: 3\n",
      "Data length: 68\n",
      "tried 11 times to find a packet in data, advertised packet size: -2, type: 3\n",
      "Data length: 1092\n",
      "tried 11 times to find a packet in data, advertised packet size: -2, type: 3\n",
      "Data length: 1418\n"
     ]
    },
    {
     "name": "stdout",
     "output_type": "stream",
     "text": [
      "[0. 0. 0. 0. 0. 0.]\n"
     ]
    }
   ],
   "source": [
    "ur = urx.Robot(\"192.168.1.10\", use_rt=True)\n",
    "pose = ur.get_pose()\n",
    "print(ur.get_tcp_speed())"
   ]
  },
  {
   "cell_type": "code",
   "execution_count": null,
   "id": "a193f3a3",
   "metadata": {},
   "outputs": [],
   "source": [
    "ur.getl()"
   ]
  },
  {
   "cell_type": "code",
   "execution_count": null,
   "id": "76aca3a3",
   "metadata": {},
   "outputs": [],
   "source": [
    "gripper.arm()"
   ]
  },
  {
   "cell_type": "code",
   "execution_count": null,
   "id": "2d06fb18",
   "metadata": {},
   "outputs": [],
   "source": [
    "streamer.enabled = True"
   ]
  },
  {
   "cell_type": "code",
   "execution_count": null,
   "id": "8e523e8e",
   "metadata": {},
   "outputs": [],
   "source": [
    "streamer.enabled = False"
   ]
  },
  {
   "cell_type": "code",
   "execution_count": null,
   "id": "5d80f9b2",
   "metadata": {},
   "outputs": [],
   "source": [
    "print(streamer.info_actuators)"
   ]
  },
  {
   "cell_type": "code",
   "execution_count": null,
   "id": "5e340abc",
   "metadata": {},
   "outputs": [],
   "source": []
  }
 ],
 "metadata": {
  "kernelspec": {
   "display_name": "Python 3",
   "language": "python",
   "name": "python3"
  },
  "language_info": {
   "codemirror_mode": {
    "name": "ipython",
    "version": 3
   },
   "file_extension": ".py",
   "mimetype": "text/x-python",
   "name": "python",
   "nbconvert_exporter": "python",
   "pygments_lexer": "ipython3",
   "version": "3.6.13"
  }
 },
 "nbformat": 4,
 "nbformat_minor": 5
}
