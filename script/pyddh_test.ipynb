{
 "cells": [
  {
   "cell_type": "code",
   "execution_count": 5,
   "id": "637e2d23",
   "metadata": {},
   "outputs": [],
   "source": [
    "import sys\n",
    "sys.path.append('/home/john/pyddh')"
   ]
  },
  {
   "cell_type": "code",
   "execution_count": 6,
   "id": "dea6c2cf",
   "metadata": {},
   "outputs": [
    {
     "name": "stdout",
     "output_type": "stream",
     "text": [
      "Load configuration at /home/john/pyddh/config/ddh_default.yaml\n",
      "Reading configuration file...\n",
      "Connecting to Odrive(s)...\n",
      "Found Odrive_L\n",
      "Found Odrive_R\n"
     ]
    }
   ],
   "source": [
    "from pyddh import DDGripper, LslStreamer\n",
    "gripper = DDGripper('ddh_default')\n",
    "streamer = LslStreamer(gripper)"
   ]
  },
  {
   "cell_type": "code",
   "execution_count": null,
   "id": "cffe10d6",
   "metadata": {},
   "outputs": [],
   "source": []
  },
  {
   "cell_type": "code",
   "execution_count": 7,
   "id": "4e76f686",
   "metadata": {},
   "outputs": [],
   "source": [
    "gripper.arm()"
   ]
  },
  {
   "cell_type": "code",
   "execution_count": 9,
   "id": "2eb39372",
   "metadata": {},
   "outputs": [],
   "source": [
    "streamer.enabled = True"
   ]
  },
  {
   "cell_type": "code",
   "execution_count": 10,
   "id": "c5db0c5c",
   "metadata": {},
   "outputs": [
    {
     "name": "stdout",
     "output_type": "stream",
     "text": [
      "[lsl_streamer] thread terminated\n"
     ]
    }
   ],
   "source": [
    "streamer.enabled = False"
   ]
  },
  {
   "cell_type": "code",
   "execution_count": 16,
   "id": "973f8ec7",
   "metadata": {},
   "outputs": [
    {
     "name": "stdout",
     "output_type": "stream",
     "text": [
      "<pylsl.pylsl.StreamInfo object at 0x7fc19c6aa4e0>\n"
     ]
    }
   ],
   "source": [
    "print(streamer.info_actuators)"
   ]
  },
  {
   "cell_type": "code",
   "execution_count": null,
   "id": "5c111b7f",
   "metadata": {},
   "outputs": [],
   "source": []
  }
 ],
 "metadata": {
  "kernelspec": {
   "display_name": "Python 3",
   "language": "python",
   "name": "python3"
  },
  "language_info": {
   "codemirror_mode": {
    "name": "ipython",
    "version": 3
   },
   "file_extension": ".py",
   "mimetype": "text/x-python",
   "name": "python",
   "nbconvert_exporter": "python",
   "pygments_lexer": "ipython3",
   "version": "3.6.13"
  }
 },
 "nbformat": 4,
 "nbformat_minor": 5
}
