{
 "cells": [
  {
   "cell_type": "code",
   "execution_count": 1,
   "id": "6cea0b66",
   "metadata": {},
   "outputs": [],
   "source": [
    "import sys\n",
    "sys.path.append('/home/john/pyddh')"
   ]
  },
  {
   "cell_type": "code",
   "execution_count": 2,
   "id": "0c772c33",
   "metadata": {},
   "outputs": [
    {
     "name": "stdout",
     "output_type": "stream",
     "text": [
      "Load configuration at /home/john/pyddh/config/ddh_default.yaml\n",
      "Reading configuration file...\n",
      "Connecting to Odrive(s)...\n",
      "Found Odrive_L\n",
      "Found Odrive_R\n"
     ]
    }
   ],
   "source": [
    "from pyddh import DDGripper\n",
    "gripper = DDGripper('ddh_default')"
   ]
  },
  {
   "cell_type": "code",
   "execution_count": 3,
   "id": "279afb3c",
   "metadata": {},
   "outputs": [],
   "source": [
    "gripper.arm()"
   ]
  },
  {
   "cell_type": "code",
   "execution_count": null,
   "id": "85a0bdd9",
   "metadata": {},
   "outputs": [],
   "source": []
  }
 ],
 "metadata": {
  "kernelspec": {
   "display_name": "Python 3",
   "language": "python",
   "name": "python3"
  },
  "language_info": {
   "codemirror_mode": {
    "name": "ipython",
    "version": 3
   },
   "file_extension": ".py",
   "mimetype": "text/x-python",
   "name": "python",
   "nbconvert_exporter": "python",
   "pygments_lexer": "ipython3",
   "version": "3.6.13"
  }
 },
 "nbformat": 4,
 "nbformat_minor": 5
}
