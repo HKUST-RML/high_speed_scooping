{
 "cells": [
  {
   "cell_type": "markdown",
   "metadata": {},
   "source": [
    "#### Import"
   ]
  },
  {
   "cell_type": "code",
   "execution_count": 1,
   "metadata": {},
   "outputs": [
    {
     "name": "stdout",
     "output_type": "stream",
     "text": [
      "importing urx from /high_speed_scooping\n"
     ]
    },
    {
     "name": "stderr",
     "output_type": "stream",
     "text": [
      "tried 11 times to find a packet in data, advertised packet size: -2, type: 3\n",
      "Data length: 68\n",
      "tried 11 times to find a packet in data, advertised packet size: -2, type: 3\n",
      "Data length: 1092\n",
      "tried 11 times to find a packet in data, advertised packet size: -2, type: 3\n",
      "Data length: 1418\n"
     ]
    },
    {
     "name": "stdout",
     "output_type": "stream",
     "text": [
      "<Transform:\n",
      "<Orientation: \n",
      "array([[-3.41458109e-05,  9.99999997e-01,  6.57742734e-05],\n",
      "       [ 9.99999999e-01,  3.41472879e-05, -2.24546932e-05],\n",
      "       [-2.24569391e-05,  6.57735066e-05, -9.99999998e-01]])>\n",
      "<Vector: (-0.50498, 0.45003, 0.42373)>\n",
      ">\n"
     ]
    }
   ],
   "source": [
    "#!/usr/bin/env python3\n",
    "import sys\n",
    "sys.path.insert(0,'..')\n",
    "import urx\n",
    "import time\n",
    "import numpy as np\n",
    "from math import *\n",
    "import math3d as m3d\n",
    "ur = urx.Robot(\"192.168.1.10\",use_rt=True)\n",
    "ur.set_tcp((0, 0, 0, 0, 0, 0))\n",
    "tcp_acc=0.1\n",
    "tcp_vel=0.1\n",
    "time.sleep(0.2)\n",
    "pose = ur.get_pose()\n",
    "print(pose)"
   ]
  },
  {
   "cell_type": "code",
   "execution_count": 2,
   "metadata": {},
   "outputs": [
    {
     "name": "stdout",
     "output_type": "stream",
     "text": [
      "reading gripper config...\n",
      "connecting to odrive...\n",
      "found left finger\n",
      "found right fingers\n"
     ]
    }
   ],
   "source": [
    "from ddh import Gripper\n",
    "gripper = Gripper(\"ddh_scooping\")"
   ]
  },
  {
   "cell_type": "markdown",
   "metadata": {},
   "source": [
    "#### testing"
   ]
  },
  {
   "cell_type": "code",
   "execution_count": null,
   "metadata": {},
   "outputs": [],
   "source": [
    "gripper.disarm()"
   ]
  },
  {
   "cell_type": "code",
   "execution_count": null,
   "metadata": {},
   "outputs": [],
   "source": [
    "gripper.arm(150)\n",
    "gripper.set_parallel_jaw(10, 0)\n",
    "time.sleep(0.5)\n",
    "a2_init = (gripper.left_a2 + gripper.right_a2)/2 "
   ]
  },
  {
   "cell_type": "code",
   "execution_count": null,
   "metadata": {},
   "outputs": [],
   "source": [
    "gripper.set_stiffness(50)"
   ]
  },
  {
   "cell_type": "code",
   "execution_count": null,
   "metadata": {},
   "outputs": [],
   "source": [
    "gripper.set_left_a1_phi(-5, 20)\n",
    "gripper.set_right_a1_phi(5, -20)"
   ]
  },
  {
   "cell_type": "code",
   "execution_count": null,
   "metadata": {},
   "outputs": [],
   "source": [
    "gripper.set_left_a1_phi(-0, 20)\n",
    "gripper.set_right_a1_phi(0, -20)"
   ]
  },
  {
   "cell_type": "code",
   "execution_count": null,
   "metadata": {},
   "outputs": [],
   "source": [
    "print(gripper.left_a2,gripper.right_a2)"
   ]
  },
  {
   "cell_type": "code",
   "execution_count": null,
   "metadata": {},
   "outputs": [],
   "source": [
    "# check finger collision\n",
    "while 1:\n",
    "    a2_cur = (gripper.left_a2 + gripper.right_a2)/2\n",
    "#     print(a2_cur)\n",
    "    if a2_cur - a2_init > 0.5:\n",
    "        print (\"Collision detected!\")\n",
    "        break"
   ]
  },
  {
   "cell_type": "code",
   "execution_count": null,
   "metadata": {},
   "outputs": [],
   "source": []
  },
  {
   "cell_type": "code",
   "execution_count": null,
   "metadata": {},
   "outputs": [],
   "source": [
    "print(ur.getl())"
   ]
  },
  {
   "cell_type": "code",
   "execution_count": null,
   "metadata": {},
   "outputs": [],
   "source": [
    "init = (-0.73, 0.17, 0.4, pi, 0, 0)\n",
    "ur.movel(init, tcp_acc, tcp_vel)"
   ]
  },
  {
   "cell_type": "code",
   "execution_count": null,
   "metadata": {},
   "outputs": [],
   "source": [
    "smack_vel = 100\n",
    "smack_acc = 0.3\n",
    "stop_acc = 0.5 #0.5\n",
    "ur.speedl([0,0,-smack_vel,0,0,0],smack_acc,5)"
   ]
  },
  {
   "cell_type": "code",
   "execution_count": null,
   "metadata": {},
   "outputs": [],
   "source": [
    "ur.speedl([0,0,smack_vel,0,0,0],stop_acc,5)\n",
    "time.sleep(0.5)\n",
    "ur.stopl(stop_acc)"
   ]
  },
  {
   "cell_type": "code",
   "execution_count": 100,
   "metadata": {},
   "outputs": [],
   "source": [
    "gripper.set_left_a1_phi(-0, 20)\n",
    "gripper.set_right_a1_phi(0, -20)"
   ]
  },
  {
   "cell_type": "code",
   "execution_count": null,
   "metadata": {},
   "outputs": [],
   "source": []
  },
  {
   "cell_type": "markdown",
   "metadata": {},
   "source": [
    "#### Experiment"
   ]
  },
  {
   "cell_type": "code",
   "execution_count": 121,
   "metadata": {},
   "outputs": [],
   "source": [
    "gripper.arm(pos_gain = 100)\n",
    "gripper.set_parallel_jaw(8, 0) #10,0\n",
    "# init pose\n",
    "init = m3d.Transform()\n",
    "init.pos = (-0.505,0.45,0.45)\n",
    "init.orient.rotate_xb(pi)\n",
    "init.orient.rotate_zt(-pi/2)\n",
    "ur.movel(init, tcp_acc, tcp_vel)\n",
    "time.sleep(0.5)"
   ]
  },
  {
   "cell_type": "code",
   "execution_count": 122,
   "metadata": {},
   "outputs": [
    {
     "name": "stdout",
     "output_type": "stream",
     "text": [
      "Collision detected!\n",
      "-0.3863629280550919\n"
     ]
    }
   ],
   "source": [
    "# robot go down\n",
    "spd_collide = 0\n",
    "smack_vel = 0.4\n",
    "smack_acc = 0.4\n",
    "stop_smack_acc = 7\n",
    "reverse_vel = 0.45\n",
    "reverse_acc = 12 #0.5\n",
    "stop_acc = 5\n",
    "a2_init = (gripper.left_a2 + gripper.right_a2)/2 \n",
    "ur.speedl([0,0,-smack_vel,0,0,0],smack_acc,5)\n",
    "# robot detect collision, then stop, close gripper, and go up\n",
    "while 1:\n",
    "    a2_cur = (gripper.left_a2 + gripper.right_a2)/2\n",
    "    #print(a2_cur)\n",
    "    if a2_cur - a2_init > 0.3:\n",
    "        print (\"Collision detected!\")\n",
    "        spd_collide = ur.get_tcp_speed(wait=False)[2]\n",
    "        gripper.set_left_a1_phi(-0, 12)\n",
    "        gripper.set_right_a1_phi(0, -12)\n",
    "#         ur.stopl(stop_smack_acc)\n",
    "        ur.speedl([0,0,reverse_vel,0,0,0],reverse_acc,5)\n",
    "        time.sleep(0.4)\n",
    "        ur.stopl(stop_acc)\n",
    "        break\n",
    "print(spd_collide)"
   ]
  },
  {
   "cell_type": "code",
   "execution_count": null,
   "metadata": {},
   "outputs": [],
   "source": []
  }
 ],
 "metadata": {
  "kernelspec": {
   "display_name": "Python 3",
   "language": "python",
   "name": "python3"
  },
  "language_info": {
   "codemirror_mode": {
    "name": "ipython",
    "version": 3
   },
   "file_extension": ".py",
   "mimetype": "text/x-python",
   "name": "python",
   "nbconvert_exporter": "python",
   "pygments_lexer": "ipython3",
   "version": "3.6.13"
  }
 },
 "nbformat": 4,
 "nbformat_minor": 5
}