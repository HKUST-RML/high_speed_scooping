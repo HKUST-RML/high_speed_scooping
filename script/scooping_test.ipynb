{
 "cells": [
  {
   "cell_type": "markdown",
   "id": "9828ccd0",
   "metadata": {},
   "source": [
    "#### Import"
   ]
  },
  {
   "cell_type": "code",
   "execution_count": 1,
   "id": "ba2f068f",
   "metadata": {},
   "outputs": [],
   "source": [
    "#!/usr/bin/env python3\n",
    "import time\n",
    "import numpy as np\n",
    "from math import *"
   ]
  },
  {
   "cell_type": "code",
   "execution_count": 2,
   "id": "f474cc60",
   "metadata": {},
   "outputs": [
    {
     "name": "stdout",
     "output_type": "stream",
     "text": [
      "<Transform:\n",
      "<Orientation: \n",
      "array([[-1.13445515e-04,  8.65996364e-01, -5.00050283e-01],\n",
      "       [ 9.99999991e-01,  1.33176672e-04,  3.76962167e-06],\n",
      "       [ 6.98595113e-05, -5.00050278e-01, -8.65996371e-01]])>\n",
      "<Vector: (-0.51000, 0.39997, 0.59058)>\n",
      ">\n"
     ]
    }
   ],
   "source": [
    "import urx\n",
    "import math3d as m3d\n",
    "ur = urx.Robot(\"192.168.1.10\")\n",
    "ur.set_tcp((0, 0, 0, 0, 0, 0))\n",
    "tcp_acc=0.05\n",
    "tcp_vel=0.05\n",
    "time.sleep(0.2)\n",
    "pose = ur.get_pose()\n",
    "print(pose)"
   ]
  },
  {
   "cell_type": "code",
   "execution_count": 3,
   "id": "db80acea",
   "metadata": {},
   "outputs": [],
   "source": [
    "from ddh import DDGripper\n",
    "from scooping_primitives import HighSpeedScooping"
   ]
  },
  {
   "cell_type": "code",
   "execution_count": 4,
   "id": "78ae4650",
   "metadata": {},
   "outputs": [
    {
     "name": "stdout",
     "output_type": "stream",
     "text": [
      "reading gripper config...\n",
      "connecting to odrive...\n",
      "found left finger\n",
      "found right fingers\n",
      "reading scooping config...\n"
     ]
    }
   ],
   "source": [
    "gripper = DDGripper(\"ddh_scooping\")\n",
    "scoop = HighSpeedScooping(ur, gripper, \"HSS\")"
   ]
  },
  {
   "cell_type": "code",
   "execution_count": 5,
   "id": "a0b8b729",
   "metadata": {},
   "outputs": [
    {
     "name": "stdout",
     "output_type": "stream",
     "text": [
      "Setting left tip: (147.5, 22.00961894323342)\n",
      "Setting right tip: (120.0, -0.3589838486224579)\n",
      "Setting pose: \n",
      "[-0.635       0.4         0.4        -1.92687451 -1.92687451  0.51630447]\n"
     ]
    }
   ],
   "source": [
    "scoop.initialize_gripper_pose((-0.65,0.4,180))"
   ]
  },
  {
   "cell_type": "markdown",
   "id": "d367ba70",
   "metadata": {},
   "source": [
    "#### testing"
   ]
  },
  {
   "cell_type": "code",
   "execution_count": null,
   "id": "3f6fb417",
   "metadata": {},
   "outputs": [],
   "source": [
    "gripper.disarm()"
   ]
  },
  {
   "cell_type": "code",
   "execution_count": null,
   "id": "f33e8033",
   "metadata": {},
   "outputs": [],
   "source": [
    "gripper.arm(200)"
   ]
  },
  {
   "cell_type": "code",
   "execution_count": null,
   "id": "040562c5",
   "metadata": {},
   "outputs": [],
   "source": [
    "gripper.arm(150)\n",
    "gripper.set_parallel_jaw(10, 0)\n",
    "time.sleep(0.5)\n",
    "a2_init = (gripper.left_a2 + gripper.right_a2)/2 "
   ]
  },
  {
   "cell_type": "code",
   "execution_count": null,
   "id": "3638cca8",
   "metadata": {},
   "outputs": [],
   "source": [
    "gripper.set_stiffness(50)"
   ]
  },
  {
   "cell_type": "code",
   "execution_count": null,
   "id": "08f4c4fc",
   "metadata": {},
   "outputs": [],
   "source": [
    "gripper.set_left_a1_phi(-5, 20)\n",
    "gripper.set_right_a1_phi(5, -20)"
   ]
  },
  {
   "cell_type": "code",
   "execution_count": null,
   "id": "baa5d376",
   "metadata": {},
   "outputs": [],
   "source": [
    "gripper.set_left_a1_phi(-0, 20)\n",
    "gripper.set_right_a1_phi(0, -20)"
   ]
  },
  {
   "cell_type": "code",
   "execution_count": null,
   "id": "2104bc93",
   "metadata": {},
   "outputs": [],
   "source": [
    "print(gripper.left_a2,gripper.right_a2)"
   ]
  },
  {
   "cell_type": "code",
   "execution_count": null,
   "id": "9f8ded74",
   "metadata": {},
   "outputs": [],
   "source": [
    "# check finger collision\n",
    "while 1:\n",
    "    a2_cur = (gripper.left_a2 + gripper.right_a2)/2\n",
    "#     print(a2_cur)\n",
    "    if a2_cur - a2_init > 0.5:\n",
    "        print (\"Collision detected!\")\n",
    "        break"
   ]
  },
  {
   "cell_type": "code",
   "execution_count": null,
   "id": "1b8abff7",
   "metadata": {},
   "outputs": [],
   "source": []
  },
  {
   "cell_type": "code",
   "execution_count": null,
   "id": "550952ef",
   "metadata": {},
   "outputs": [],
   "source": [
    "print(ur.getl())"
   ]
  },
  {
   "cell_type": "code",
   "execution_count": null,
   "id": "0e224ac1",
   "metadata": {},
   "outputs": [],
   "source": [
    "init = (-0.73, 0.17, 0.4, pi, 0, 0)\n",
    "ur.movel(init, tcp_acc, tcp_vel)"
   ]
  },
  {
   "cell_type": "code",
   "execution_count": null,
   "id": "81a3838e",
   "metadata": {},
   "outputs": [],
   "source": [
    "smack_vel = 100\n",
    "smack_acc = 0.3\n",
    "stop_acc = 0.5 #0.5\n",
    "ur.speedl([0,0,-smack_vel,0,0,0],smack_acc,5)"
   ]
  },
  {
   "cell_type": "code",
   "execution_count": null,
   "id": "fb5c1dfc",
   "metadata": {},
   "outputs": [],
   "source": [
    "ur.speedl([0,0,smack_vel,0,0,0],stop_acc,5)\n",
    "time.sleep(0.5)\n",
    "ur.stopl(stop_acc)"
   ]
  },
  {
   "cell_type": "code",
   "execution_count": null,
   "id": "febb1dec",
   "metadata": {},
   "outputs": [],
   "source": []
  }
 ],
 "metadata": {
  "kernelspec": {
   "display_name": "Python 3",
   "language": "python",
   "name": "python3"
  },
  "language_info": {
   "codemirror_mode": {
    "name": "ipython",
    "version": 3
   },
   "file_extension": ".py",
   "mimetype": "text/x-python",
   "name": "python",
   "nbconvert_exporter": "python",
   "pygments_lexer": "ipython3",
   "version": "3.6.13"
  }
 },
 "nbformat": 4,
 "nbformat_minor": 5
}
