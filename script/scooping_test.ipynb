{
 "cells": [
  {
   "cell_type": "markdown",
   "id": "9828ccd0",
   "metadata": {},
   "source": [
    "#### Import"
   ]
  },
  {
   "cell_type": "code",
   "execution_count": 1,
   "id": "ba2f068f",
   "metadata": {},
   "outputs": [],
   "source": [
    "#!/usr/bin/env python3\n",
    "import time\n",
    "import numpy as np\n",
    "from math import *"
   ]
  },
  {
   "cell_type": "code",
   "execution_count": 2,
   "id": "f474cc60",
   "metadata": {},
   "outputs": [
    {
     "name": "stderr",
     "output_type": "stream",
     "text": [
      "tried 11 times to find a packet in data, advertised packet size: -2, type: 3\n",
      "Data length: 68\n",
      "tried 11 times to find a packet in data, advertised packet size: -2, type: 3\n",
      "Data length: 1092\n",
      "tried 11 times to find a packet in data, advertised packet size: -2, type: 3\n",
      "Data length: 1418\n"
     ]
    },
    {
     "name": "stdout",
     "output_type": "stream",
     "text": [
      "<Transform:\n",
      "<Orientation: \n",
      "array([[ 2.11526514e-05,  8.60833428e-01, -5.08886834e-01],\n",
      "       [ 9.99739644e-01,  1.15933888e-02,  1.96529427e-02],\n",
      "       [ 2.28176330e-02, -5.08754757e-01, -8.60609059e-01]])>\n",
      "<Vector: (-0.40851, 0.45106, 0.31577)>\n",
      ">\n"
     ]
    }
   ],
   "source": [
    "import urx\n",
    "import math3d as m3d\n",
    "ur = urx.Robot(\"192.168.1.10\", use_rt=True)\n",
    "ur.set_tcp((0, 0, 0, 0, 0, 0))\n",
    "tcp_acc=0.05\n",
    "tcp_vel=0.05\n",
    "time.sleep(0.2)\n",
    "pose = ur.get_pose()\n",
    "print(pose)"
   ]
  },
  {
   "cell_type": "code",
   "execution_count": 64,
   "id": "db80acea",
   "metadata": {},
   "outputs": [
    {
     "name": "stdout",
     "output_type": "stream",
     "text": [
      "reading gripper config...\n",
      "connecting to odrive...\n",
      "found left finger\n",
      "found right fingers\n",
      "reading scooping config...\n"
     ]
    }
   ],
   "source": [
    "from ddh import DDGripper\n",
    "from scooping_primitives import HighSpeedScooping\n",
    "gripper = DDGripper(\"ddh_scooping\")\n",
    "scoop = HighSpeedScooping(ur, gripper, \"hss\")"
   ]
  },
  {
   "cell_type": "code",
   "execution_count": 65,
   "id": "dc3695ec",
   "metadata": {},
   "outputs": [
    {
     "name": "stdout",
     "output_type": "stream",
     "text": [
      "Setting left tip: (147.85, 38.72390923627309)\n",
      "Setting right tip: (128.5, 2.239092362730858)\n",
      "Setting pose: \n",
      "[-0.5176      0.45        0.25       -1.92687451 -1.92687451  0.51630447]\n"
     ]
    }
   ],
   "source": [
    "scoop.initialize_pose((-0.509,0.45,180))"
   ]
  },
  {
   "cell_type": "code",
   "execution_count": 66,
   "id": "4fdcb4b1",
   "metadata": {},
   "outputs": [
    {
     "name": "stdout",
     "output_type": "stream",
     "text": [
      "Collision detected!\n",
      "Setting left tip: (157, 41)\n",
      "Setting right tip: (157, -41)\n",
      "Reached zero speed!\n",
      "==========Scooping completed!==========\n",
      "Colliding speed: -0.30029 m/s\n",
      "Decelerating distance: 0.05173 m\n",
      "Deceleration to lift: 2.25436 m/s^2\n",
      "Lifting sleep time: 0.73 s\n",
      "Lifted distance: 0.21577 m\n"
     ]
    }
   ],
   "source": [
    "scoop.simple_scoop()"
   ]
  },
  {
   "cell_type": "markdown",
   "id": "b25dabd3",
   "metadata": {},
   "source": [
    "#### script testing"
   ]
  },
  {
   "cell_type": "code",
   "execution_count": 4,
   "id": "bc9bae71",
   "metadata": {},
   "outputs": [
    {
     "name": "stdout",
     "output_type": "stream",
     "text": [
      "Setting left tip: (158, 38)\n",
      "Setting right tip: (158, -38)\n"
     ]
    }
   ],
   "source": [
    "gripper.arm()\n",
    "gripper.set_stiffness(20)\n",
    "gripper.set_left_tip((158, 38))\n",
    "gripper.set_right_tip((158, -38))\n",
    "# gripper.set_parallel_jaw(-14.5, 0)"
   ]
  },
  {
   "cell_type": "markdown",
   "id": "ae998de3",
   "metadata": {},
   "source": [
    "#### deceleration control and end pos control"
   ]
  },
  {
   "cell_type": "code",
   "execution_count": 91,
   "id": "b9cf7e20",
   "metadata": {},
   "outputs": [],
   "source": [
    "ur.speedl([0.4,0,0,0,0,0],0.4,10)"
   ]
  },
  {
   "cell_type": "code",
   "execution_count": 92,
   "id": "c31d5a6f",
   "metadata": {},
   "outputs": [
    {
     "name": "stdout",
     "output_type": "stream",
     "text": [
      "Reach zero vel!\n",
      "0.049768522491737695\n",
      "0.8744213062293441\n"
     ]
    }
   ],
   "source": [
    "# print(ur.get_tcp_speed(wait=False)[0])\n",
    "stop_dist = 0.05\n",
    "end_dist = 0.3\n",
    "reverse_vel = 0.4\n",
    "spd_detect = ur.get_tcp_speed(wait=False)[0]\n",
    "stop_dec = (spd_detect**2)/(2*stop_dist)\n",
    "ur.speedl([-reverse_vel,0,0,0,0,0],stop_dec,10)\n",
    "pos_dec = ur.getl()[0]\n",
    "while ur.get_tcp_speed(wait=False)[0] > 0:\n",
    "    continue\n",
    "pos_stop = ur.getl()[0]\n",
    "print(\"Reach zero vel!\")\n",
    "t_acc = reverse_vel / stop_dec\n",
    "s_acc = 0.5 * stop_dec * t_acc**2\n",
    "t_const = (end_dist-s_acc) / reverse_vel\n",
    "print(s_acc)\n",
    "print(t_acc+t_const)\n",
    "time.sleep(t_acc+t_const)\n",
    "ur.stopl(5)\n",
    "pos_end = ur.getl()[0]"
   ]
  },
  {
   "cell_type": "code",
   "execution_count": 93,
   "id": "7b654b41",
   "metadata": {},
   "outputs": [
    {
     "name": "stdout",
     "output_type": "stream",
     "text": [
      "0.40092913739670216\n",
      "1.6074417321366368\n",
      "0.053455938681710294\n",
      "-0.3207241538181202\n"
     ]
    }
   ],
   "source": [
    "ur.stopl(2)\n",
    "stop_dist = pos_stop - pos_dec\n",
    "reverse_dist = pos_end - pos_stop\n",
    "print(spd_detect)\n",
    "print(stop_dec)\n",
    "print(stop_dist)\n",
    "print(reverse_dist)"
   ]
  },
  {
   "cell_type": "code",
   "execution_count": null,
   "id": "e8ab769f",
   "metadata": {},
   "outputs": [],
   "source": []
  },
  {
   "cell_type": "code",
   "execution_count": 98,
   "id": "e4cef83b",
   "metadata": {},
   "outputs": [
    {
     "name": "stdout",
     "output_type": "stream",
     "text": [
      "<Transform:\n",
      "<Orientation: \n",
      "array([[ 0.00779014,  0.95668964, -0.29100558],\n",
      "       [ 0.99974421, -0.01363056, -0.01804798],\n",
      "       [-0.02123288, -0.29079055, -0.95655111]])>\n",
      "<Vector: (-0.27695, 0.43693, 0.59485)>\n",
      ">\n",
      "[-0.2769455458607862, 0.4369331464189327, 0.5948543810792469, -2.0824007304925716, -2.0597256505179344, 0.3287233937577874]\n"
     ]
    }
   ],
   "source": [
    "pose = ur.get_pose()\n",
    "print(pose)\n",
    "print(ur.getl())"
   ]
  },
  {
   "cell_type": "markdown",
   "id": "ee754906",
   "metadata": {},
   "source": [
    "#### scooping test"
   ]
  },
  {
   "cell_type": "code",
   "execution_count": 16,
   "id": "f652fd6d",
   "metadata": {},
   "outputs": [
    {
     "name": "stdout",
     "output_type": "stream",
     "text": [
      "Setting left tip: (147.85, 38.72390923627309)\n",
      "Setting right tip: (128.5, 2.239092362730858)\n",
      "Setting pose: \n",
      "[-0.5176      0.45        0.25       -1.92687451 -1.92687451  0.51630447]\n"
     ]
    }
   ],
   "source": [
    "scoop.initialize_pose((-0.509,0.45,180))"
   ]
  },
  {
   "cell_type": "code",
   "execution_count": 17,
   "id": "1c757e50",
   "metadata": {},
   "outputs": [
    {
     "name": "stdout",
     "output_type": "stream",
     "text": [
      "Collision detected!\n",
      "Setting left tip: (157, 41)\n",
      "Setting right tip: (157, -41)\n",
      "Reached zero speed!\n",
      "==========Scooping completed!==========\n",
      "Colliding speed: -0.21531 m/s\n",
      "Decelerating distance: 0.05515 m\n",
      "Deceleration to lift: 2.31791 m/s^2\n",
      "Lifting sleep time: 0.90 s\n",
      "Lifted distance: 0.21500 m\n"
     ]
    }
   ],
   "source": [
    "scoop.simple_scoop()"
   ]
  },
  {
   "cell_type": "code",
   "execution_count": null,
   "id": "17987abb",
   "metadata": {},
   "outputs": [],
   "source": []
  },
  {
   "cell_type": "code",
   "execution_count": 77,
   "id": "8fb42c8d",
   "metadata": {},
   "outputs": [
    {
     "name": "stdout",
     "output_type": "stream",
     "text": [
      "Setting left tip: (147.85, 38.72390923627309)\n",
      "Setting right tip: (128.5, 2.239092362730858)\n",
      "Setting pose: \n",
      "[-0.5176      0.45        0.2        -1.92687451 -1.92687451  0.51630447]\n"
     ]
    }
   ],
   "source": [
    "scoop.prescoop_initialize((-0.509,0.45,180))\n",
    "time.sleep(0.5)\n",
    "a2_init = gripper.right_a2"
   ]
  },
  {
   "cell_type": "code",
   "execution_count": null,
   "id": "9fbd5b61",
   "metadata": {},
   "outputs": [],
   "source": []
  },
  {
   "cell_type": "code",
   "execution_count": 78,
   "id": "42f6c38f",
   "metadata": {},
   "outputs": [
    {
     "name": "stdout",
     "output_type": "stream",
     "text": [
      "Collision detected!\n",
      "Setting left tip: (157, 41)\n",
      "Setting right tip: (157, -41)\n"
     ]
    }
   ],
   "source": [
    "# smack and scoop\n",
    "smack_vel = 0.3 #100\n",
    "smack_acc = 0.3 #0.3\n",
    "stop_smack_acc = 3 #7\n",
    "reverse_vel = 0.3 # 250\n",
    "reverse_acc = 0.35 #1\n",
    "stop_acc = 0.5 #0.5\n",
    "stop_dist = 0.01\n",
    "\n",
    "# robot accelerate\n",
    "ur.speedl([0,0,-smack_vel,0,0,0],smack_acc,5)\n",
    "# robot detect collision, then stop, close gripper, and go up\n",
    "while 1:\n",
    "    a2_cur = gripper.right_a2\n",
    "    #print(a2_cur)\n",
    "    if a2_cur - a2_init > 0.3:\n",
    "        print (\"Collision detected!\")\n",
    "        z_spd = ur.get_tcp_speed(wait=False)[2]\n",
    "        stop_dec = (z_spd**2)/(2*stop_dist)\n",
    "        gripper.set_stiffness(20, 'R')\n",
    "#         gripper.set_left_tip((158, 38))\n",
    "#         gripper.set_right_tip((158, -38))\n",
    "        gripper.set_left_tip((157, 41))\n",
    "        gripper.set_right_tip((157, -41))\n",
    "#         ur.stopl(stop_smack_acc)\n",
    "        gripper.set_stiffness(100)\n",
    "        ur.speedl([0,0,reverse_vel,0,0,0],stop_smack_acc,5)\n",
    "        time.sleep(0.2)\n",
    "        ur.stopl(stop_acc)\n",
    "        break"
   ]
  },
  {
   "cell_type": "code",
   "execution_count": 37,
   "id": "f74a673e",
   "metadata": {},
   "outputs": [
    {
     "name": "stdout",
     "output_type": "stream",
     "text": [
      "-0.3009815352406324\n",
      "9.058988455580806\n"
     ]
    }
   ],
   "source": [
    "print(z_spd)\n",
    "print(stop_dec)"
   ]
  },
  {
   "cell_type": "code",
   "execution_count": 66,
   "id": "10a3f123",
   "metadata": {},
   "outputs": [
    {
     "name": "stdout",
     "output_type": "stream",
     "text": [
      "Setting left tip: (157, 41)\n",
      "Setting right tip: (157, -41)\n"
     ]
    }
   ],
   "source": [
    "gripper.set_left_tip((157, 41))\n",
    "gripper.set_right_tip((157, -41))"
   ]
  },
  {
   "cell_type": "code",
   "execution_count": null,
   "id": "a455bacc",
   "metadata": {},
   "outputs": [],
   "source": [
    "ur.stopl()"
   ]
  }
 ],
 "metadata": {
  "kernelspec": {
   "display_name": "Python 3",
   "language": "python",
   "name": "python3"
  },
  "language_info": {
   "codemirror_mode": {
    "name": "ipython",
    "version": 3
   },
   "file_extension": ".py",
   "mimetype": "text/x-python",
   "name": "python",
   "nbconvert_exporter": "python",
   "pygments_lexer": "ipython3",
   "version": "3.6.13"
  }
 },
 "nbformat": 4,
 "nbformat_minor": 5
}
