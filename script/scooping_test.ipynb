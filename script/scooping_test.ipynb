{
 "cells": [
  {
   "cell_type": "markdown",
   "id": "d6ee5638",
   "metadata": {},
   "source": [
    "#### Import"
   ]
  },
  {
   "cell_type": "code",
   "execution_count": null,
   "id": "cc0ff580",
   "metadata": {},
   "outputs": [],
   "source": [
    "#!/usr/bin/env python3\n",
    "import time\n",
    "import numpy as np\n",
    "from math import *"
   ]
  },
  {
   "cell_type": "code",
   "execution_count": null,
   "id": "545bef4f",
   "metadata": {},
   "outputs": [],
   "source": [
    "import urx\n",
    "import math3d as m3d\n",
    "ur = urx.Robot(\"192.168.1.10\")\n",
    "ur.set_tcp((0, 0, 0, 0, 0, 0))\n",
    "tcp_acc=0.05\n",
    "tcp_vel=0.05\n",
    "time.sleep(0.2)\n",
    "pose = ur.get_pose()\n",
    "print(pose)"
   ]
  },
  {
   "cell_type": "code",
   "execution_count": 1,
   "id": "75917241",
   "metadata": {},
   "outputs": [],
   "source": [
    "from ddh import DDGripper"
   ]
  },
  {
   "cell_type": "code",
   "execution_count": 2,
   "id": "be0901e9",
   "metadata": {},
   "outputs": [
    {
     "name": "stdout",
     "output_type": "stream",
     "text": [
      "reading gripper parameters...\n",
      "connecting to odrive...\n",
      "found left finger\n",
      "found right fingers\n"
     ]
    }
   ],
   "source": [
    "gripper = DDGripper()"
   ]
  },
  {
   "cell_type": "markdown",
   "id": "455be6ff",
   "metadata": {},
   "source": [
    "#### testing"
   ]
  },
  {
   "cell_type": "code",
   "execution_count": 11,
   "id": "91a7410b",
   "metadata": {},
   "outputs": [],
   "source": [
    "gripper.disarm()"
   ]
  },
  {
   "cell_type": "code",
   "execution_count": 10,
   "id": "3a50ec12",
   "metadata": {},
   "outputs": [],
   "source": [
    "gripper.arm(200)"
   ]
  },
  {
   "cell_type": "code",
   "execution_count": 8,
   "id": "37afea53",
   "metadata": {},
   "outputs": [
    {
     "ename": "NameError",
     "evalue": "name 'time' is not defined",
     "output_type": "error",
     "traceback": [
      "\u001b[0;31m---------------------------------------------------------------------------\u001b[0m",
      "\u001b[0;31mNameError\u001b[0m                                 Traceback (most recent call last)",
      "\u001b[0;32m<ipython-input-8-8645f321d3b7>\u001b[0m in \u001b[0;36m<module>\u001b[0;34m\u001b[0m\n\u001b[1;32m      1\u001b[0m \u001b[0mgripper\u001b[0m\u001b[0;34m.\u001b[0m\u001b[0marm\u001b[0m\u001b[0;34m(\u001b[0m\u001b[0;36m150\u001b[0m\u001b[0;34m)\u001b[0m\u001b[0;34m\u001b[0m\u001b[0;34m\u001b[0m\u001b[0m\n\u001b[1;32m      2\u001b[0m \u001b[0mgripper\u001b[0m\u001b[0;34m.\u001b[0m\u001b[0mset_parallel_jaw\u001b[0m\u001b[0;34m(\u001b[0m\u001b[0;36m10\u001b[0m\u001b[0;34m,\u001b[0m \u001b[0;36m0\u001b[0m\u001b[0;34m)\u001b[0m\u001b[0;34m\u001b[0m\u001b[0;34m\u001b[0m\u001b[0m\n\u001b[0;32m----> 3\u001b[0;31m \u001b[0mtime\u001b[0m\u001b[0;34m.\u001b[0m\u001b[0msleep\u001b[0m\u001b[0;34m(\u001b[0m\u001b[0;36m0.5\u001b[0m\u001b[0;34m)\u001b[0m\u001b[0;34m\u001b[0m\u001b[0;34m\u001b[0m\u001b[0m\n\u001b[0m\u001b[1;32m      4\u001b[0m \u001b[0ma2_init\u001b[0m \u001b[0;34m=\u001b[0m \u001b[0;34m(\u001b[0m\u001b[0mgripper\u001b[0m\u001b[0;34m.\u001b[0m\u001b[0mleft_a2\u001b[0m \u001b[0;34m+\u001b[0m \u001b[0mgripper\u001b[0m\u001b[0;34m.\u001b[0m\u001b[0mright_a2\u001b[0m\u001b[0;34m)\u001b[0m\u001b[0;34m/\u001b[0m\u001b[0;36m2\u001b[0m\u001b[0;34m\u001b[0m\u001b[0;34m\u001b[0m\u001b[0m\n",
      "\u001b[0;31mNameError\u001b[0m: name 'time' is not defined"
     ]
    }
   ],
   "source": [
    "gripper.arm(150)\n",
    "gripper.set_parallel_jaw(10, 0)\n",
    "time.sleep(0.5)\n",
    "a2_init = (gripper.left_a2 + gripper.right_a2)/2 "
   ]
  },
  {
   "cell_type": "code",
   "execution_count": null,
   "id": "6c5c46c1",
   "metadata": {},
   "outputs": [],
   "source": [
    "gripper.set_stiffness(50)"
   ]
  },
  {
   "cell_type": "code",
   "execution_count": null,
   "id": "34c0ba38",
   "metadata": {},
   "outputs": [],
   "source": [
    "gripper.set_left_a1_phi(-5, 20)\n",
    "gripper.set_right_a1_phi(5, -20)"
   ]
  },
  {
   "cell_type": "code",
   "execution_count": null,
   "id": "fac95604",
   "metadata": {},
   "outputs": [],
   "source": [
    "gripper.set_left_a1_phi(-0, 20)\n",
    "gripper.set_right_a1_phi(0, -20)"
   ]
  },
  {
   "cell_type": "code",
   "execution_count": null,
   "id": "434458d8",
   "metadata": {},
   "outputs": [],
   "source": [
    "print(gripper.left_a2,gripper.right_a2)"
   ]
  },
  {
   "cell_type": "code",
   "execution_count": null,
   "id": "812301c8",
   "metadata": {},
   "outputs": [],
   "source": [
    "# check finger collision\n",
    "while 1:\n",
    "    a2_cur = (gripper.left_a2 + gripper.right_a2)/2\n",
    "#     print(a2_cur)\n",
    "    if a2_cur - a2_init > 0.5:\n",
    "        print (\"Collision detected!\")\n",
    "        break"
   ]
  },
  {
   "cell_type": "code",
   "execution_count": null,
   "id": "c9a8f813",
   "metadata": {},
   "outputs": [],
   "source": []
  },
  {
   "cell_type": "code",
   "execution_count": null,
   "id": "ab8cb811",
   "metadata": {},
   "outputs": [],
   "source": [
    "print(ur.getl())"
   ]
  },
  {
   "cell_type": "code",
   "execution_count": null,
   "id": "5d0cf2d4",
   "metadata": {},
   "outputs": [],
   "source": [
    "init = (-0.73, 0.17, 0.4, pi, 0, 0)\n",
    "ur.movel(init, tcp_acc, tcp_vel)"
   ]
  },
  {
   "cell_type": "code",
   "execution_count": null,
   "id": "388fb34e",
   "metadata": {},
   "outputs": [],
   "source": [
    "smack_vel = 100\n",
    "smack_acc = 0.3\n",
    "stop_acc = 0.5 #0.5\n",
    "ur.speedl([0,0,-smack_vel,0,0,0],smack_acc,5)"
   ]
  },
  {
   "cell_type": "code",
   "execution_count": null,
   "id": "821f56f5",
   "metadata": {},
   "outputs": [],
   "source": [
    "ur.speedl([0,0,smack_vel,0,0,0],stop_acc,5)\n",
    "time.sleep(0.5)\n",
    "ur.stopl(stop_acc)"
   ]
  },
  {
   "cell_type": "code",
   "execution_count": null,
   "id": "997946fb",
   "metadata": {},
   "outputs": [],
   "source": []
  }
 ],
 "metadata": {
  "kernelspec": {
   "display_name": "Python 3",
   "language": "python",
   "name": "python3"
  },
  "language_info": {
   "codemirror_mode": {
    "name": "ipython",
    "version": 3
   },
   "file_extension": ".py",
   "mimetype": "text/x-python",
   "name": "python",
   "nbconvert_exporter": "python",
   "pygments_lexer": "ipython3",
   "version": "3.6.13"
  }
 },
 "nbformat": 4,
 "nbformat_minor": 5
}
