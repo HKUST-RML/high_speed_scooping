{
 "cells": [
  {
   "cell_type": "markdown",
   "id": "9828ccd0",
   "metadata": {},
   "source": [
    "#### Import"
   ]
  },
  {
   "cell_type": "code",
   "execution_count": 1,
   "id": "ba2f068f",
   "metadata": {},
   "outputs": [],
   "source": [
    "#!/usr/bin/env python3\n",
    "import time\n",
    "import numpy as np\n",
    "from math import *"
   ]
  },
  {
   "cell_type": "code",
   "execution_count": 2,
   "id": "f474cc60",
   "metadata": {},
   "outputs": [
    {
     "name": "stdout",
     "output_type": "stream",
     "text": [
      "<Transform:\n",
      "<Orientation: \n",
      "array([[ 7.23124304e-05,  7.07193573e-01, -7.07019975e-01],\n",
      "       [ 9.99999995e-01, -1.00582868e-04,  1.67021040e-06],\n",
      "       [-6.99329349e-05, -7.07019972e-01, -7.07193576e-01]])>\n",
      "<Vector: (-0.34634, 0.45004, 0.36260)>\n",
      ">\n"
     ]
    }
   ],
   "source": [
    "import urx\n",
    "import math3d as m3d\n",
    "ur = urx.Robot(\"192.168.1.10\")\n",
    "ur.set_tcp((0, 0, 0, 0, 0, 0))\n",
    "tcp_acc=0.05\n",
    "tcp_vel=0.05\n",
    "time.sleep(0.2)\n",
    "pose = ur.get_pose()\n",
    "print(pose)"
   ]
  },
  {
   "cell_type": "code",
   "execution_count": 32,
   "id": "db80acea",
   "metadata": {},
   "outputs": [
    {
     "name": "stdout",
     "output_type": "stream",
     "text": [
      "reading gripper config...\n",
      "connecting to odrive...\n",
      "found left finger\n",
      "found right fingers\n",
      "reading scooping config...\n"
     ]
    }
   ],
   "source": [
    "from ddh import DDGripper\n",
    "from scooping_primitives import HighSpeedScooping\n",
    "gripper = DDGripper(\"ddh_scooping\")\n",
    "scoop = HighSpeedScooping(ur, gripper, \"hss\")"
   ]
  },
  {
   "cell_type": "code",
   "execution_count": null,
   "id": "bc9bae71",
   "metadata": {},
   "outputs": [],
   "source": [
    "gripper.set_stiffness(20)\n",
    "gripper.set_left_tip((158, 38))\n",
    "gripper.set_right_tip((158, -38))\n",
    "# gripper.set_parallel_jaw(-14.5, 0)"
   ]
  },
  {
   "cell_type": "code",
   "execution_count": null,
   "id": "38909cff",
   "metadata": {},
   "outputs": [],
   "source": [
    "gripper.set_left_tip((150, 40))\n",
    "gripper.set_right_tip((158, -38))"
   ]
  },
  {
   "cell_type": "code",
   "execution_count": null,
   "id": "9603ad17",
   "metadata": {},
   "outputs": [],
   "source": [
    "gripper.arm()"
   ]
  },
  {
   "cell_type": "code",
   "execution_count": null,
   "id": "e4cef83b",
   "metadata": {},
   "outputs": [],
   "source": [
    "pose = ur.get_pose()\n",
    "print(pose)"
   ]
  },
  {
   "cell_type": "markdown",
   "id": "ee754906",
   "metadata": {},
   "source": [
    "#### scooping test"
   ]
  },
  {
   "cell_type": "code",
   "execution_count": 112,
   "id": "8fb42c8d",
   "metadata": {},
   "outputs": [
    {
     "name": "stdout",
     "output_type": "stream",
     "text": [
      "Setting left tip: (150.0, 35.0)\n",
      "Setting right tip: (128.5, 2.239092362730858)\n",
      "Setting pose: \n",
      "[-0.5219      0.45        0.2        -1.92687451 -1.92687451  0.51630447]\n"
     ]
    }
   ],
   "source": [
    "scoop.initialize_gripper_pose((-0.509,0.45,180))\n",
    "time.sleep(0.5)\n",
    "a2_init = gripper.right_a2"
   ]
  },
  {
   "cell_type": "code",
   "execution_count": null,
   "id": "9fbd5b61",
   "metadata": {},
   "outputs": [],
   "source": []
  },
  {
   "cell_type": "code",
   "execution_count": 113,
   "id": "42f6c38f",
   "metadata": {},
   "outputs": [
    {
     "name": "stdout",
     "output_type": "stream",
     "text": [
      "Collision detected!\n",
      "Setting left tip: (158, 38)\n",
      "Setting right tip: (158, -38)\n"
     ]
    }
   ],
   "source": [
    "# smack and scoop\n",
    "smack_vel = 100 #100\n",
    "smack_acc = 0.1 #0.3\n",
    "stop_smack_acc = 4 #7\n",
    "reverse_vel = 100 # 250\n",
    "reverse_acc = 0.5 #1\n",
    "stop_acc = 0.5 #0.5\n",
    "ur.speedl([0,0,-smack_vel,0,0,0],smack_acc,5)\n",
    "# robot detect collision, then stop, close gripper, and go up\n",
    "while 1:\n",
    "    a2_cur = gripper.right_a2\n",
    "    #print(a2_cur)\n",
    "    if a2_cur - a2_init > 0.3:\n",
    "        print (\"Collision detected!\")\n",
    "        gripper.set_stiffness(20, 'R')\n",
    "        gripper.set_left_tip((158, 38))\n",
    "#         gripper.set_left_tip((150, 40))\n",
    "        gripper.set_right_tip((158, -38))\n",
    "        ur.stopl(stop_smack_acc)\n",
    "        gripper.set_stiffness(60, 'R')\n",
    "        ur.speedl([0,0,reverse_vel,0,0,0],reverse_acc,5)\n",
    "        time.sleep(0.3)\n",
    "        ur.stopl(stop_acc)\n",
    "        break"
   ]
  },
  {
   "cell_type": "code",
   "execution_count": null,
   "id": "a455bacc",
   "metadata": {},
   "outputs": [],
   "source": [
    "ur.stopl()"
   ]
  }
 ],
 "metadata": {
  "kernelspec": {
   "display_name": "Python 3",
   "language": "python",
   "name": "python3"
  },
  "language_info": {
   "codemirror_mode": {
    "name": "ipython",
    "version": 3
   },
   "file_extension": ".py",
   "mimetype": "text/x-python",
   "name": "python",
   "nbconvert_exporter": "python",
   "pygments_lexer": "ipython3",
   "version": "3.6.13"
  }
 },
 "nbformat": 4,
 "nbformat_minor": 5
}
