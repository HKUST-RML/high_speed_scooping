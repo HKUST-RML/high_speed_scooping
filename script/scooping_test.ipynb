{
 "cells": [
  {
   "cell_type": "markdown",
   "id": "9828ccd0",
   "metadata": {},
   "source": [
    "#### Import"
   ]
  },
  {
   "cell_type": "code",
   "execution_count": 1,
   "id": "ba2f068f",
   "metadata": {},
   "outputs": [],
   "source": [
    "#!/usr/bin/env python3\n",
    "import time\n",
    "import numpy as np\n",
    "from math import *"
   ]
  },
  {
   "cell_type": "code",
   "execution_count": 2,
   "id": "f474cc60",
   "metadata": {},
   "outputs": [
    {
     "name": "stderr",
     "output_type": "stream",
     "text": [
      "tried 11 times to find a packet in data, advertised packet size: -2, type: 3\n",
      "Data length: 68\n",
      "tried 11 times to find a packet in data, advertised packet size: -2, type: 3\n",
      "Data length: 1092\n",
      "tried 11 times to find a packet in data, advertised packet size: -2, type: 3\n",
      "Data length: 1418\n"
     ]
    },
    {
     "name": "stdout",
     "output_type": "stream",
     "text": [
      "<Transform:\n",
      "<Orientation: \n",
      "array([[-0.00991178,  0.99283987, -0.11904095],\n",
      "       [ 0.99798021,  0.00235163, -0.06348202],\n",
      "       [-0.06274754, -0.11942973, -0.99085785]])>\n",
      "<Vector: (-0.39682, 0.45465, 0.44730)>\n",
      ">\n"
     ]
    }
   ],
   "source": [
    "import urx\n",
    "import math3d as m3d\n",
    "ur = urx.Robot(\"192.168.1.10\", use_rt=True)\n",
    "ur.set_tcp((0, 0, 0, 0, 0, 0))\n",
    "tcp_acc=0.05\n",
    "tcp_vel=0.05\n",
    "time.sleep(0.2)\n",
    "pose = ur.get_pose()\n",
    "print(pose)"
   ]
  },
  {
   "cell_type": "code",
   "execution_count": 75,
   "id": "db80acea",
   "metadata": {},
   "outputs": [
    {
     "name": "stdout",
     "output_type": "stream",
     "text": [
      "reading gripper config...\n",
      "connecting to odrive...\n",
      "found left finger\n",
      "found right fingers\n",
      "reading scooping config...\n"
     ]
    }
   ],
   "source": [
    "from ddh import DDGripper\n",
    "from scooping_primitives import HighSpeedScooping\n",
    "gripper = DDGripper(\"ddh_scooping\")\n",
    "scoop = HighSpeedScooping(ur, gripper, \"hss\")"
   ]
  },
  {
   "cell_type": "markdown",
   "id": "b25dabd3",
   "metadata": {},
   "source": [
    "#### script testing"
   ]
  },
  {
   "cell_type": "code",
   "execution_count": 4,
   "id": "bc9bae71",
   "metadata": {},
   "outputs": [
    {
     "name": "stdout",
     "output_type": "stream",
     "text": [
      "Setting left tip: (158, 38)\n",
      "Setting right tip: (158, -38)\n"
     ]
    }
   ],
   "source": [
    "gripper.arm()\n",
    "gripper.set_stiffness(20)\n",
    "gripper.set_left_tip((158, 38))\n",
    "gripper.set_right_tip((158, -38))\n",
    "# gripper.set_parallel_jaw(-14.5, 0)"
   ]
  },
  {
   "cell_type": "markdown",
   "id": "9f79ce7b",
   "metadata": {},
   "source": [
    "#### test deceleration control"
   ]
  },
  {
   "cell_type": "code",
   "execution_count": 140,
   "id": "7a979452",
   "metadata": {},
   "outputs": [],
   "source": [
    "ur.speedl([0,0,-0.4,0,0,0],0.4,10)"
   ]
  },
  {
   "cell_type": "code",
   "execution_count": 141,
   "id": "67641adf",
   "metadata": {},
   "outputs": [],
   "source": [
    "# print(ur.get_tcp_speed(wait=False)[0])\n",
    "stop_dist = 0.05\n",
    "z_spd = ur.get_tcp_speed(wait=False)[2]\n",
    "stop_dec = (z_spd**2)/(2*stop_dist)\n",
    "ur.stopl(stop_dec)\n",
    "pos = ur.getl()[2]"
   ]
  },
  {
   "cell_type": "code",
   "execution_count": 142,
   "id": "d6b31d9b",
   "metadata": {},
   "outputs": [
    {
     "name": "stdout",
     "output_type": "stream",
     "text": [
      "-0.05322568129083427\n",
      "-0.4001141268684379\n"
     ]
    }
   ],
   "source": [
    "stop_dist = ur.getl()[2] - pos\n",
    "print(stop_dist)\n",
    "print(z_spd)"
   ]
  },
  {
   "cell_type": "code",
   "execution_count": 98,
   "id": "e4cef83b",
   "metadata": {},
   "outputs": [
    {
     "name": "stdout",
     "output_type": "stream",
     "text": [
      "<Transform:\n",
      "<Orientation: \n",
      "array([[ 0.00779014,  0.95668964, -0.29100558],\n",
      "       [ 0.99974421, -0.01363056, -0.01804798],\n",
      "       [-0.02123288, -0.29079055, -0.95655111]])>\n",
      "<Vector: (-0.27695, 0.43693, 0.59485)>\n",
      ">\n",
      "[-0.2769455458607862, 0.4369331464189327, 0.5948543810792469, -2.0824007304925716, -2.0597256505179344, 0.3287233937577874]\n"
     ]
    }
   ],
   "source": [
    "pose = ur.get_pose()\n",
    "print(pose)\n",
    "print(ur.getl())"
   ]
  },
  {
   "cell_type": "markdown",
   "id": "ee754906",
   "metadata": {},
   "source": [
    "#### scooping test"
   ]
  },
  {
   "cell_type": "code",
   "execution_count": 78,
   "id": "8fb42c8d",
   "metadata": {},
   "outputs": [
    {
     "name": "stdout",
     "output_type": "stream",
     "text": [
      "Setting left tip: (152.2, 31.189488223348473)\n",
      "Setting right tip: (142.3, -21.663208781719646)\n",
      "Setting pose: \n",
      "[-0.5134      0.45        0.2        -1.92687451 -1.92687451  0.51630447]\n"
     ]
    },
    {
     "name": "stderr",
     "output_type": "stream",
     "text": [
      "Robot not running: {'size': 47, 'type': 0, 'timestamp': 4987432000, 'isRobotConnected': True, 'isRealRobotEnabled': True, 'isPowerOnRobot': True, 'isEmergencyStopped': False, 'isSecurityStopped': False, 'isProgramRunning': False, 'isProgramPaused': False, 'robotMode': 4, 'controlMode': 0, 'speedFraction': 1.0, 'speedScaling': 0.0, 'speedFractionLimit': b'?'}\n",
      "Exception in thread Thread-4:\n",
      "Traceback (most recent call last):\n",
      "  File \"/home/john/anaconda3/envs/scoop/lib/python3.6/threading.py\", line 916, in _bootstrap_inner\n",
      "    self.run()\n",
      "  File \"/home/john/anaconda3/envs/scoop/lib/python3.6/site-packages/urx/ursecmon.py\", line 293, in run\n",
      "    data = self._get_data()\n",
      "  File \"/home/john/anaconda3/envs/scoop/lib/python3.6/site-packages/urx/ursecmon.py\", line 340, in _get_data\n",
      "    tmp = self._s_secondary.recv(1024)\n",
      "socket.timeout: timed out\n",
      "\n"
     ]
    }
   ],
   "source": [
    "scoop.initialize_gripper_pose((-0.509,0.45,180))\n",
    "time.sleep(0.5)\n",
    "a2_init = gripper.right_a2"
   ]
  },
  {
   "cell_type": "code",
   "execution_count": null,
   "id": "9fbd5b61",
   "metadata": {},
   "outputs": [],
   "source": []
  },
  {
   "cell_type": "code",
   "execution_count": 77,
   "id": "42f6c38f",
   "metadata": {},
   "outputs": [
    {
     "name": "stdout",
     "output_type": "stream",
     "text": [
      "Collision detected!\n",
      "Setting left tip: (158, 38)\n",
      "Setting right tip: (158, -38)\n"
     ]
    }
   ],
   "source": [
    "# smack and scoop\n",
    "smack_vel = 0.2 #100\n",
    "smack_acc = 0.2 #0.3\n",
    "stop_smack_acc = 2 #7\n",
    "reverse_vel = 0.4 # 250\n",
    "reverse_acc = 0.35 #1\n",
    "stop_acc = 0.5 #0.5\n",
    "stop_dist = 0.01\n",
    "\n",
    "# robot accelerate\n",
    "ur.speedl([0,0,-smack_vel,0,0,0],smack_acc,5)\n",
    "# robot detect collision, then stop, close gripper, and go up\n",
    "while 1:\n",
    "    a2_cur = gripper.right_a2\n",
    "    #print(a2_cur)\n",
    "    if a2_cur - a2_init > 0.3:\n",
    "        print (\"Collision detected!\")\n",
    "        z_spd = ur.get_tcp_speed(wait=False)[2]\n",
    "        stop_dec = (z_spd**2)/(2*stop_dist)\n",
    "        gripper.set_stiffness(20, 'R')\n",
    "        gripper.set_left_tip((158, 38))\n",
    "        gripper.set_right_tip((158, -38))\n",
    "        ur.stopl(stop_smack_acc)\n",
    "        gripper.set_stiffness(100)\n",
    "        ur.speedl([0,0,reverse_vel,0,0,0],reverse_acc,5)\n",
    "        time.sleep(0.5)\n",
    "        ur.stopl(stop_acc)\n",
    "        break"
   ]
  },
  {
   "cell_type": "code",
   "execution_count": 40,
   "id": "f74a673e",
   "metadata": {},
   "outputs": [
    {
     "name": "stdout",
     "output_type": "stream",
     "text": [
      "-0.19452154208794392\n",
      "1.8919315168135868\n"
     ]
    }
   ],
   "source": [
    "print(z_spd)\n",
    "print(stop_dec)"
   ]
  },
  {
   "cell_type": "code",
   "execution_count": null,
   "id": "a455bacc",
   "metadata": {},
   "outputs": [],
   "source": [
    "ur.stopl()"
   ]
  }
 ],
 "metadata": {
  "kernelspec": {
   "display_name": "Python 3",
   "language": "python",
   "name": "python3"
  },
  "language_info": {
   "codemirror_mode": {
    "name": "ipython",
    "version": 3
   },
   "file_extension": ".py",
   "mimetype": "text/x-python",
   "name": "python",
   "nbconvert_exporter": "python",
   "pygments_lexer": "ipython3",
   "version": "3.6.13"
  }
 },
 "nbformat": 4,
 "nbformat_minor": 5
}
