{
 "cells": [
  {
   "cell_type": "markdown",
   "id": "9828ccd0",
   "metadata": {},
   "source": [
    "#### Import"
   ]
  },
  {
   "cell_type": "code",
   "execution_count": 1,
   "id": "ba2f068f",
   "metadata": {},
   "outputs": [],
   "source": [
    "#!/usr/bin/env python3\n",
    "import time\n",
    "import numpy as np\n",
    "from math import *"
   ]
  },
  {
   "cell_type": "code",
   "execution_count": 2,
   "id": "f474cc60",
   "metadata": {},
   "outputs": [
    {
     "name": "stdout",
     "output_type": "stream",
     "text": [
      "<Transform:\n",
      "<Orientation: \n",
      "array([[-1.13445515e-04,  8.65996364e-01, -5.00050283e-01],\n",
      "       [ 9.99999991e-01,  1.33176672e-04,  3.76962167e-06],\n",
      "       [ 6.98595113e-05, -5.00050278e-01, -8.65996371e-01]])>\n",
      "<Vector: (-0.51000, 0.39997, 0.59058)>\n",
      ">\n"
     ]
    }
   ],
   "source": [
    "import urx\n",
    "import math3d as m3d\n",
    "ur = urx.Robot(\"192.168.1.10\")\n",
    "ur.set_tcp((0, 0, 0, 0, 0, 0))\n",
    "tcp_acc=0.05\n",
    "tcp_vel=0.05\n",
    "time.sleep(0.2)\n",
    "pose = ur.get_pose()\n",
    "print(pose)"
   ]
  },
  {
   "cell_type": "code",
   "execution_count": 3,
   "id": "db80acea",
   "metadata": {},
   "outputs": [],
   "source": [
    "from ddh import DDGripper\n",
    "from scooping_primitives import HighSpeedScooping\n",
    "gripper = DDGripper(\"ddh_scooping\")\n",
    "scoop = HighSpeedScooping(ur, gripper, \"HSS\")"
   ]
  },
  {
   "cell_type": "markdown",
   "id": "3274e81e",
   "metadata": {},
   "source": [
    "#### scooping test"
   ]
  },
  {
   "cell_type": "code",
   "execution_count": null,
   "id": "d1ccf3b6",
   "metadata": {},
   "outputs": [],
   "source": [
    "scoop.initialize_gripper_pose((-0.65,0.4,180))\n",
    "time.sleep(0.5)\n",
    "a2_init = (gripper.left_a2 + gripper.right_a2)/2 "
   ]
  },
  {
   "cell_type": "code",
   "execution_count": null,
   "id": "810daeb4",
   "metadata": {},
   "outputs": [],
   "source": [
    "# smack and scoop\n",
    "smack_vel = 100\n",
    "smack_acc = 0.3\n",
    "stop_smack_acc = 7\n",
    "reverse_vel = 250\n",
    "reverse_acc = 1.0 #0.5\n",
    "stop_acc = 0.5\n",
    "ur.speedl([0,0,-smack_vel,0,0,0],smack_acc,5)\n",
    "# robot detect collision, then stop, close gripper, and go up\n",
    "while 1:\n",
    "    a2_cur = (gripper.left_a2 + gripper.right_a2)/2\n",
    "    #print(a2_cur)\n",
    "    if a2_cur - a2_init > 0.3:\n",
    "        print (\"Collision detected!\")\n",
    "        gripper.set_left_a1_phi(-0, 20)\n",
    "        gripper.set_right_a1_phi(0, -20)\n",
    "        ur.stopl(stop_smack_acc)\n",
    "        ur.speedl([0,0,reverse_vel,0,0,0],reverse_acc,5)\n",
    "        time.sleep(0.25)\n",
    "        ur.stopl(stop_acc)\n",
    "        break"
   ]
  },
  {
   "cell_type": "code",
   "execution_count": null,
   "id": "2be90a4c",
   "metadata": {},
   "outputs": [],
   "source": [
    "ur.stopl()"
   ]
  }
 ],
 "metadata": {
  "kernelspec": {
   "display_name": "Python 3",
   "language": "python",
   "name": "python3"
  },
  "language_info": {
   "codemirror_mode": {
    "name": "ipython",
    "version": 3
   },
   "file_extension": ".py",
   "mimetype": "text/x-python",
   "name": "python",
   "nbconvert_exporter": "python",
   "pygments_lexer": "ipython3",
   "version": "3.6.13"
  }
 },
 "nbformat": 4,
 "nbformat_minor": 5
}
