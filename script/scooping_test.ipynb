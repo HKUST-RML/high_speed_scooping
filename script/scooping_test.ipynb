{
 "cells": [
  {
   "cell_type": "markdown",
   "id": "9828ccd0",
   "metadata": {},
   "source": [
    "#### Import"
   ]
  },
  {
   "cell_type": "code",
   "execution_count": 1,
   "id": "ba2f068f",
   "metadata": {},
   "outputs": [],
   "source": [
    "#!/usr/bin/env python3\n",
    "import time\n",
    "import numpy as np\n",
    "from math import *"
   ]
  },
  {
   "cell_type": "code",
   "execution_count": 3,
   "id": "f474cc60",
   "metadata": {},
   "outputs": [
    {
     "name": "stderr",
     "output_type": "stream",
     "text": [
      "tried 11 times to find a packet in data, advertised packet size: -2, type: 3\n",
      "Data length: 68\n",
      "tried 11 times to find a packet in data, advertised packet size: -2, type: 3\n",
      "Data length: 1092\n",
      "tried 11 times to find a packet in data, advertised packet size: -2, type: 3\n",
      "Data length: 1418\n"
     ]
    },
    {
     "name": "stdout",
     "output_type": "stream",
     "text": [
      "<Transform:\n",
      "<Orientation: \n",
      "array([[ 0.00347748,  0.86583586, -0.50031607],\n",
      "       [ 0.99998238, -0.00541818, -0.00242614],\n",
      "       [-0.00481145, -0.50029882, -0.86583944]])>\n",
      "<Vector: (-0.22654, 0.39427, 0.53016)>\n",
      ">\n"
     ]
    }
   ],
   "source": [
    "import urx\n",
    "import math3d as m3d\n",
    "ur = urx.Robot(\"192.168.1.10\", use_rt=True)\n",
    "ur.set_tcp((0, 0, 0, 0, 0, 0))\n",
    "tcp_acc=0.05\n",
    "tcp_vel=0.05\n",
    "time.sleep(0.2)\n",
    "pose = ur.get_pose()\n",
    "print(pose)"
   ]
  },
  {
   "cell_type": "code",
   "execution_count": 3,
   "id": "db80acea",
   "metadata": {},
   "outputs": [
    {
     "name": "stdout",
     "output_type": "stream",
     "text": [
      "reading gripper config...\n",
      "connecting to odrive...\n",
      "found left finger\n",
      "found right fingers\n",
      "reading scooping config...\n"
     ]
    }
   ],
   "source": [
    "from ddh import DDGripper\n",
    "from scooping_primitives import HighSpeedScooping\n",
    "gripper = DDGripper(\"ddh_scooping\")\n",
    "scoop = HighSpeedScooping(ur, gripper, \"hss\")"
   ]
  },
  {
   "cell_type": "markdown",
   "id": "b25dabd3",
   "metadata": {},
   "source": [
    "#### script testing"
   ]
  },
  {
   "cell_type": "code",
   "execution_count": null,
   "id": "bc9bae71",
   "metadata": {},
   "outputs": [],
   "source": [
    "gripper.arm()\n",
    "gripper.set_stiffness(20)\n",
    "gripper.set_left_tip((158, 38))\n",
    "gripper.set_right_tip((158, -38))\n",
    "# gripper.set_parallel_jaw(-14.5, 0)"
   ]
  },
  {
   "cell_type": "code",
   "execution_count": null,
   "id": "eb2b0c14",
   "metadata": {},
   "outputs": [],
   "source": []
  },
  {
   "cell_type": "code",
   "execution_count": 22,
   "id": "7a979452",
   "metadata": {},
   "outputs": [],
   "source": [
    "ur.speedl([0.1,0,0,0,0,0],0.2,10)"
   ]
  },
  {
   "cell_type": "code",
   "execution_count": 23,
   "id": "67641adf",
   "metadata": {},
   "outputs": [
    {
     "name": "stdout",
     "output_type": "stream",
     "text": [
      "[ 0.00054243 -0.09932496  0.00252892  0.00349176 -0.00432759 -0.00162943]\n"
     ]
    },
    {
     "name": "stderr",
     "output_type": "stream",
     "text": [
      "Robot not running: {'size': 47, 'type': 0, 'timestamp': 1700408000, 'isRobotConnected': True, 'isRealRobotEnabled': True, 'isPowerOnRobot': True, 'isEmergencyStopped': False, 'isSecurityStopped': False, 'isProgramRunning': False, 'isProgramPaused': False, 'robotMode': 4, 'controlMode': 0, 'speedFraction': 1.0, 'speedScaling': 0.0, 'speedFractionLimit': b'?'}\n",
      "Exception in thread Thread-5:\n",
      "Traceback (most recent call last):\n",
      "  File \"/home/john/anaconda3/envs/scoop/lib/python3.6/threading.py\", line 916, in _bootstrap_inner\n",
      "    self.run()\n",
      "  File \"/home/john/anaconda3/envs/scoop/lib/python3.6/site-packages/urx/ursecmon.py\", line 293, in run\n",
      "    data = self._get_data()\n",
      "  File \"/home/john/anaconda3/envs/scoop/lib/python3.6/site-packages/urx/ursecmon.py\", line 340, in _get_data\n",
      "    tmp = self._s_secondary.recv(1024)\n",
      "socket.timeout: timed out\n",
      "\n"
     ]
    }
   ],
   "source": [
    "print(ur.get_tcp_speed(wait=False))\n",
    "ur.stopl()"
   ]
  },
  {
   "cell_type": "code",
   "execution_count": null,
   "id": "61b631ae",
   "metadata": {},
   "outputs": [],
   "source": []
  },
  {
   "cell_type": "code",
   "execution_count": null,
   "id": "d6b31d9b",
   "metadata": {},
   "outputs": [],
   "source": []
  },
  {
   "cell_type": "code",
   "execution_count": 3,
   "id": "e4cef83b",
   "metadata": {},
   "outputs": [
    {
     "name": "stdout",
     "output_type": "stream",
     "text": [
      "<Transform:\n",
      "<Orientation: \n",
      "array([[ 6.29828511e-05,  8.66015589e-01, -5.00016995e-01],\n",
      "       [ 9.99999997e-01, -7.69744017e-05, -7.35611181e-06],\n",
      "       [-4.48590165e-05, -5.00016993e-01, -8.66015592e-01]])>\n",
      "<Vector: (-0.21373, 0.39359, 0.52880)>\n",
      ">\n"
     ]
    }
   ],
   "source": [
    "pose = ur.get_pose()\n",
    "print(pose)"
   ]
  },
  {
   "cell_type": "markdown",
   "id": "ee754906",
   "metadata": {},
   "source": [
    "#### scooping test"
   ]
  },
  {
   "cell_type": "code",
   "execution_count": 4,
   "id": "8fb42c8d",
   "metadata": {},
   "outputs": [
    {
     "name": "stdout",
     "output_type": "stream",
     "text": [
      "Setting left tip: (150.0, 35.0)\n",
      "Setting right tip: (128.5, 2.239092362730858)\n",
      "Setting pose: \n",
      "[-0.5219      0.45        0.2        -1.92687451 -1.92687451  0.51630447]\n"
     ]
    }
   ],
   "source": [
    "scoop.initialize_gripper_pose((-0.509,0.45,180))\n",
    "time.sleep(0.5)\n",
    "a2_init = gripper.right_a2"
   ]
  },
  {
   "cell_type": "code",
   "execution_count": null,
   "id": "9fbd5b61",
   "metadata": {},
   "outputs": [],
   "source": []
  },
  {
   "cell_type": "code",
   "execution_count": 113,
   "id": "42f6c38f",
   "metadata": {},
   "outputs": [
    {
     "name": "stdout",
     "output_type": "stream",
     "text": [
      "Collision detected!\n",
      "Setting left tip: (158, 38)\n",
      "Setting right tip: (158, -38)\n"
     ]
    }
   ],
   "source": [
    "# smack and scoop\n",
    "smack_vel = 100 #100\n",
    "smack_acc = 0.1 #0.3\n",
    "stop_smack_acc = 4 #7\n",
    "reverse_vel = 100 # 250\n",
    "reverse_acc = 0.5 #1\n",
    "stop_acc = 0.5 #0.5\n",
    "ur.speedl([0,0,-smack_vel,0,0,0],smack_acc,5)\n",
    "# robot detect collision, then stop, close gripper, and go up\n",
    "while 1:\n",
    "    a2_cur = gripper.right_a2\n",
    "    #print(a2_cur)\n",
    "    if a2_cur - a2_init > 0.3:\n",
    "        print (\"Collision detected!\")\n",
    "        gripper.set_stiffness(20, 'R')\n",
    "        gripper.set_left_tip((158, 38))\n",
    "#         gripper.set_left_tip((150, 40))\n",
    "        gripper.set_right_tip((158, -38))\n",
    "        ur.stopl(stop_smack_acc)\n",
    "        gripper.set_stiffness(60, 'R')\n",
    "        ur.speedl([0,0,reverse_vel,0,0,0],reverse_acc,5)\n",
    "        time.sleep(0.3)\n",
    "        ur.stopl(stop_acc)\n",
    "        break"
   ]
  },
  {
   "cell_type": "code",
   "execution_count": null,
   "id": "a455bacc",
   "metadata": {},
   "outputs": [],
   "source": [
    "ur.stopl()"
   ]
  }
 ],
 "metadata": {
  "kernelspec": {
   "display_name": "Python 3",
   "language": "python",
   "name": "python3"
  },
  "language_info": {
   "codemirror_mode": {
    "name": "ipython",
    "version": 3
   },
   "file_extension": ".py",
   "mimetype": "text/x-python",
   "name": "python",
   "nbconvert_exporter": "python",
   "pygments_lexer": "ipython3",
   "version": "3.6.13"
  }
 },
 "nbformat": 4,
 "nbformat_minor": 5
}
