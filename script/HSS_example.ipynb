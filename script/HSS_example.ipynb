{
 "cells": [
  {
   "cell_type": "markdown",
   "id": "f545b2e4",
   "metadata": {},
   "source": [
    "# Example of Running *High-Speed Scooping*"
   ]
  },
  {
   "cell_type": "markdown",
   "id": "3832c50c",
   "metadata": {},
   "source": [
    "## 1. Connect to UR10 robot arm"
   ]
  },
  {
   "cell_type": "markdown",
   "id": "d36bd3eb",
   "metadata": {},
   "source": [
    "**1.1 Import the urx package from the local directory**"
   ]
  },
  {
   "cell_type": "markdown",
   "id": "103cb849",
   "metadata": {},
   "source": [
    "Add the path /high_speed_scooping to the python environment at the first index"
   ]
  },
  {
   "cell_type": "code",
   "execution_count": null,
   "id": "32ec8bec",
   "metadata": {},
   "outputs": [],
   "source": [
    "import sys\n",
    "sys.path.insert(0,'..') "
   ]
  },
  {
   "cell_type": "markdown",
   "id": "dd910f52",
   "metadata": {},
   "source": [
    "Import the package. A message \"importing urx from /high_speed_scooping\" will show up if you are import the local urx package"
   ]
  },
  {
   "cell_type": "code",
   "execution_count": null,
   "id": "3adde5b3",
   "metadata": {},
   "outputs": [],
   "source": [
    "import urx"
   ]
  },
  {
   "cell_type": "markdown",
   "id": "d1ae8129",
   "metadata": {},
   "source": [
    "**1.2 Create an ur10 object for accessing the APIs**"
   ]
  },
  {
   "cell_type": "markdown",
   "id": "96b4d353",
   "metadata": {},
   "source": [
    "create a *Robot* object named `ur` with the IP address of your robot"
   ]
  },
  {
   "cell_type": "code",
   "execution_count": null,
   "id": "cfc43855",
   "metadata": {},
   "outputs": [],
   "source": [
    "ur = urx.Robot(\"192.168.1.10\", use_rt=True) "
   ]
  },
  {
   "cell_type": "markdown",
   "id": "53e836f7",
   "metadata": {},
   "source": [
    "Get the current pose of the robot and print it to verify your connection. Check if the printed coordinate match with your robot"
   ]
  },
  {
   "cell_type": "code",
   "execution_count": null,
   "id": "74db5dcb",
   "metadata": {},
   "outputs": [],
   "source": [
    "pose = ur.get_pose()\n",
    "print(pose)"
   ]
  },
  {
   "cell_type": "markdown",
   "id": "bd4448a6",
   "metadata": {},
   "source": [
    "## 2. Connect to the direct-drive gripper"
   ]
  },
  {
   "cell_type": "markdown",
   "id": "3188d8dd",
   "metadata": {},
   "source": [
    "**2.1 Create an gripper for accessing the APIs**"
   ]
  },
  {
   "cell_type": "markdown",
   "id": "1c1c2fed",
   "metadata": {},
   "source": [
    "Import the class *DDGripper* from the *ddh* module "
   ]
  },
  {
   "cell_type": "code",
   "execution_count": null,
   "id": "0d8ac658",
   "metadata": {},
   "outputs": [],
   "source": [
    "from ddh import DDGripper"
   ]
  },
  {
   "cell_type": "markdown",
   "id": "e0d58ade",
   "metadata": {},
   "source": [
    "Create a *DDGripper* object named `gripper` with the config file name: \"ddh_scooping\" in `/config`"
   ]
  },
  {
   "cell_type": "code",
   "execution_count": null,
   "id": "ccde3b16",
   "metadata": {},
   "outputs": [],
   "source": [
    "gripper = DDGripper(\"ddh_scooping\")"
   ]
  },
  {
   "cell_type": "markdown",
   "id": "ef1583d9",
   "metadata": {},
   "source": [
    "**2.2 Test the gripper's connection and motors' control**"
   ]
  },
  {
   "cell_type": "markdown",
   "id": "aea0ca14",
   "metadata": {},
   "source": [
    "Start the controller. The motors will hold its position."
   ]
  },
  {
   "cell_type": "code",
   "execution_count": null,
   "id": "7e8fee49",
   "metadata": {},
   "outputs": [],
   "source": [
    "gripper.arm()"
   ]
  },
  {
   "cell_type": "markdown",
   "id": "2ab47423",
   "metadata": {},
   "source": [
    "Check if the four motors are working. To turn off the motors' control, run:"
   ]
  },
  {
   "cell_type": "code",
   "execution_count": null,
   "id": "79e30b2c",
   "metadata": {},
   "outputs": [],
   "source": [
    "gripper.disarm()"
   ]
  },
  {
   "cell_type": "markdown",
   "id": "4ec58a18",
   "metadata": {},
   "source": [
    "## 3. Execute *High-Speed Scooping*"
   ]
  },
  {
   "cell_type": "markdown",
   "id": "71556153",
   "metadata": {},
   "source": [
    "**3.1 Import the *high-speed scooping* module**"
   ]
  },
  {
   "cell_type": "markdown",
   "id": "4f27c1e2",
   "metadata": {},
   "source": [
    "Import the class *HighSpeedScooping* from the module *scooping_primitives*"
   ]
  },
  {
   "cell_type": "code",
   "execution_count": null,
   "id": "734fb92e",
   "metadata": {},
   "outputs": [],
   "source": [
    "from scooping_primitives import HighSpeedScooping "
   ]
  },
  {
   "cell_type": "markdown",
   "id": "3d3c5790",
   "metadata": {},
   "source": [
    "Create a *HighSpeedScooping* object named `scoop` with the object `ur`, `gripper`, and config file name: \"hss\" in `/config`"
   ]
  },
  {
   "cell_type": "code",
   "execution_count": null,
   "id": "2bd20b58",
   "metadata": {},
   "outputs": [],
   "source": [
    "scoop = HighSpeedScooping(ur, gripper, \"hss\")"
   ]
  },
  {
   "cell_type": "markdown",
   "id": "581fef10",
   "metadata": {},
   "source": [
    "**3.2 Execute the task**"
   ]
  },
  {
   "cell_type": "markdown",
   "id": "6104cc62",
   "metadata": {},
   "source": [
    "Initialize the pose of both the robot and gripper above the object with the parameters:\n",
    "\n",
    "2D pose of the object located at `x = -0.5` (meter), `y = 0.5` (meter),\n",
    "\n",
    "and the orientation: `angle_relative_to_x_axis = 45` (degree)"
   ]
  },
  {
   "cell_type": "code",
   "execution_count": null,
   "id": "dfc1fc64",
   "metadata": {},
   "outputs": [],
   "source": [
    "scoop.initialize_pose((-0.5, 0.5, 45))"
   ]
  },
  {
   "cell_type": "markdown",
   "id": "7badc463",
   "metadata": {},
   "source": [
    "The picking motion will be executed as follows:\n",
    "1. The arm accelerates towards the surface\n",
    "2. The gripper detects the collision with the motors and close the digits to scoop up the object\n",
    "3. The robot moving down accelerates upward to take the gripper off from the surface"
   ]
  },
  {
   "cell_type": "code",
   "execution_count": null,
   "id": "172b873d",
   "metadata": {},
   "outputs": [],
   "source": [
    "scoop.simple_scoop()"
   ]
  },
  {
   "cell_type": "markdown",
   "id": "5f573474",
   "metadata": {},
   "source": [
    "The parameters of the high-speed scooping can be changed in `/config/hss.yaml`"
   ]
  }
 ],
 "metadata": {
  "kernelspec": {
   "display_name": "Python 3",
   "language": "python",
   "name": "python3"
  },
  "language_info": {
   "codemirror_mode": {
    "name": "ipython",
    "version": 3
   },
   "file_extension": ".py",
   "mimetype": "text/x-python",
   "name": "python",
   "nbconvert_exporter": "python",
   "pygments_lexer": "ipython3",
   "version": "3.6.13"
  }
 },
 "nbformat": 4,
 "nbformat_minor": 5
}
