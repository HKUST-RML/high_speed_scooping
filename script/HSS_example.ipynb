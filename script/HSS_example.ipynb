{
 "cells": [
  {
   "cell_type": "code",
   "execution_count": null,
   "id": "0f434cb7",
   "metadata": {},
   "outputs": [],
   "source": [
    "import sys\n",
    "sys.path.insert(0,'..') # add the path /high_speed_scooping to the python environment at the first index\n",
    "import urx # import urx from /high_speed_scooping \n",
    "ur = urx.Robot(\"192.168.1.10\", use_rt=True) # create a Robot object named ur with the IP address of your robot\n",
    "pose = ur.get_pose() # get the current pose of the robot\n",
    "print(pose) # print the pose to verify your connection "
   ]
  },
  {
   "cell_type": "code",
   "execution_count": null,
   "id": "0db786df",
   "metadata": {},
   "outputs": [],
   "source": [
    "from ddh import DDGripper # import the class DDGripper from the gripper module \n",
    "from scooping_primitives import HighSpeedScooping # import the class HighSpeedScooping from the module of scooping primitives\n",
    "gripper = DDGripper(\"ddh_scooping\") # create a DDGripper object named gripper with the config file name: \"ddh_scooping\" in /config\n",
    "scoop = HighSpeedScooping(ur, gripper, \"hss\") # create a HighSpeedScooping object named 'scoop' with the object ur, gripper, and config file name: \"hss\" in /config"
   ]
  },
  {
   "cell_type": "code",
   "execution_count": null,
   "id": "aa069d99",
   "metadata": {},
   "outputs": [],
   "source": [
    "'''\n",
    "initialize the pose of both the robot and gripper with the 2d pose of the object \n",
    "located at x = -0.5 (meter), y = 0.5 (meter)\n",
    "with the orientation: angle_relative_to_x_axis = 45 (degree)\n",
    "'''\n",
    "scoop.initialize_pose((-0.5, 0.5, 45))"
   ]
  },
  {
   "cell_type": "code",
   "execution_count": null,
   "id": "be34d243",
   "metadata": {},
   "outputs": [],
   "source": [
    "'''\n",
    "execute the scooping motion as follows\n",
    "1. accelerates the robot towards the surface\n",
    "2. detects the collision with the motors and close the digits the scoop up the object\n",
    "3. accelerates the robot upward to take the gripper off from the surface\n",
    "'''\n",
    "scoop.simple_scoop()"
   ]
  }
 ],
 "metadata": {
  "kernelspec": {
   "display_name": "Python 3",
   "language": "python",
   "name": "python3"
  },
  "language_info": {
   "codemirror_mode": {
    "name": "ipython",
    "version": 3
   },
   "file_extension": ".py",
   "mimetype": "text/x-python",
   "name": "python",
   "nbconvert_exporter": "python",
   "pygments_lexer": "ipython3",
   "version": "3.6.13"
  }
 },
 "nbformat": 4,
 "nbformat_minor": 5
}
