{
 "cells": [
  {
   "cell_type": "markdown",
   "id": "acc45b97",
   "metadata": {},
   "source": [
    "# Example of running High-Speed Scooping"
   ]
  },
  {
   "cell_type": "markdown",
   "id": "95feb79b",
   "metadata": {},
   "source": [
    "## 1. Connect to UR10 robot arm"
   ]
  },
  {
   "cell_type": "markdown",
   "id": "9e70c9c2",
   "metadata": {},
   "source": [
    "**import the urx package from the local directory**"
   ]
  },
  {
   "cell_type": "code",
   "execution_count": null,
   "id": "057b9fd0",
   "metadata": {},
   "outputs": [],
   "source": [
    "import sys\n",
    "sys.path.insert(0,'..') "
   ]
  },
  {
   "cell_type": "markdown",
   "id": "06b09a76",
   "metadata": {},
   "source": [
    "This will add the path /high_speed_scooping to the python environment at the first index"
   ]
  },
  {
   "cell_type": "code",
   "execution_count": null,
   "id": "812e7789",
   "metadata": {},
   "outputs": [],
   "source": [
    "import urx"
   ]
  },
  {
   "cell_type": "markdown",
   "id": "ba69780b",
   "metadata": {},
   "source": [
    "A message will show up: 'importing urx from /high_speed_scooping'"
   ]
  },
  {
   "cell_type": "code",
   "execution_count": null,
   "id": "3a220350",
   "metadata": {},
   "outputs": [],
   "source": [
    "# create a Robot object named ur with the IP address of your robot\n",
    "ur = urx.Robot(\"192.168.1.10\", use_rt=True) \n",
    "\n",
    "# get the current pose of the robot\n",
    "pose = ur.get_pose()\n",
    "\n",
    "# print the pose to verify your connection \n",
    "print(pose)"
   ]
  },
  {
   "cell_type": "code",
   "execution_count": null,
   "id": "425424aa",
   "metadata": {},
   "outputs": [],
   "source": [
    "# import the class DDGripper from the gripper module \n",
    "from ddh import DDGripper\n",
    "\n",
    "# import the class HighSpeedScooping from the module of scooping primitives\n",
    "from scooping_primitives import HighSpeedScooping\n",
    "\n",
    "# create a DDGripper object named gripper with the config file name: \"ddh_scooping\" in /config\n",
    "gripper = DDGripper(\"ddh_scooping\")\n",
    "\n",
    "# create a HighSpeedScooping object named 'scoop' with the object ur, gripper, and config file name: \"hss\" in /config\n",
    "scoop = HighSpeedScooping(ur, gripper, \"hss\")"
   ]
  },
  {
   "cell_type": "code",
   "execution_count": null,
   "id": "e029210b",
   "metadata": {},
   "outputs": [],
   "source": [
    "'''\n",
    "initialize the pose of both the robot and gripper with the 2d pose of the object \n",
    "located at x = -0.5 (meter), y = 0.5 (meter)\n",
    "with the orientation: angle_relative_to_x_axis = 45 (degree)\n",
    "'''\n",
    "scoop.initialize_pose((-0.5, 0.5, 45))"
   ]
  },
  {
   "cell_type": "code",
   "execution_count": null,
   "id": "4eb81957",
   "metadata": {},
   "outputs": [],
   "source": [
    "'''\n",
    "execute the scooping motion as follows\n",
    "1. accelerates the robot towards the surface\n",
    "2. detects the collision with the motors and close the digits to scoop up the object\n",
    "3. accelerates the robot upward to take the gripper off from the surface\n",
    "'''\n",
    "scoop.simple_scoop()"
   ]
  }
 ],
 "metadata": {
  "kernelspec": {
   "display_name": "Python 3",
   "language": "python",
   "name": "python3"
  },
  "language_info": {
   "codemirror_mode": {
    "name": "ipython",
    "version": 3
   },
   "file_extension": ".py",
   "mimetype": "text/x-python",
   "name": "python",
   "nbconvert_exporter": "python",
   "pygments_lexer": "ipython3",
   "version": "3.6.13"
  }
 },
 "nbformat": 4,
 "nbformat_minor": 5
}
