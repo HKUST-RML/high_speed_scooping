{
 "cells": [
  {
   "cell_type": "markdown",
   "id": "3c6923a1",
   "metadata": {},
   "source": [
    "# Example of Running *High-Speed Scooping*"
   ]
  },
  {
   "cell_type": "markdown",
   "id": "1a608d67",
   "metadata": {},
   "source": [
    "## 1. Connect to UR10 robot arm"
   ]
  },
  {
   "cell_type": "markdown",
   "id": "8acebacb",
   "metadata": {},
   "source": [
    "**1.1 Import the urx package from the local directory**"
   ]
  },
  {
   "cell_type": "markdown",
   "id": "42c49fdd",
   "metadata": {},
   "source": [
    "Add the path /high_speed_scooping to the python environment at the first index"
   ]
  },
  {
   "cell_type": "code",
   "execution_count": null,
   "id": "dfbcb838",
   "metadata": {},
   "outputs": [],
   "source": [
    "import sys\n",
    "sys.path.insert(0,'..') "
   ]
  },
  {
   "cell_type": "markdown",
   "id": "6031916c",
   "metadata": {},
   "source": [
    "Import the package. A message \"importing urx from /high_speed_scooping\" will show up if you are import the local urx package"
   ]
  },
  {
   "cell_type": "code",
   "execution_count": null,
   "id": "6618e5b5",
   "metadata": {},
   "outputs": [],
   "source": [
    "import urx"
   ]
  },
  {
   "cell_type": "markdown",
   "id": "53877f6d",
   "metadata": {},
   "source": [
    "**1.2 Create an ur10 object for accessing the APIs**"
   ]
  },
  {
   "cell_type": "markdown",
   "id": "2102e4b7",
   "metadata": {},
   "source": [
    "Create a *Robot* object named `ur` with the IP address of your robot"
   ]
  },
  {
   "cell_type": "code",
   "execution_count": null,
   "id": "becea93e",
   "metadata": {},
   "outputs": [],
   "source": [
    "ur = urx.Robot(\"192.168.1.10\", use_rt=True) "
   ]
  },
  {
   "cell_type": "markdown",
   "id": "34286be6",
   "metadata": {},
   "source": [
    "Get the current pose of the robot and print it to verify your connection. Check if the printed coordinate matches with your robot"
   ]
  },
  {
   "cell_type": "code",
   "execution_count": null,
   "id": "bd010b88",
   "metadata": {},
   "outputs": [],
   "source": [
    "pose = ur.get_pose()\n",
    "print(pose)"
   ]
  },
  {
   "cell_type": "markdown",
   "id": "10a1f89a",
   "metadata": {},
   "source": [
    "## 2. Connect to the direct-drive gripper"
   ]
  },
  {
   "cell_type": "markdown",
   "id": "ee2ec233",
   "metadata": {},
   "source": [
    "**2.1 Download driver package of our direct-drive hand**"
   ]
  },
  {
   "cell_type": "markdown",
   "id": "6ba4be3b",
   "metadata": {},
   "source": [
    "```shell\n",
    "cd high_speed_scooping\n",
    "git clone https://github.com/HKUST-RML/ddh_driver\n",
    "cd ddh_driver\n",
    "pip3 install -r requirements.txt\n",
    "```"
   ]
  },
  {
   "cell_type": "markdown",
   "id": "763321bd",
   "metadata": {},
   "source": [
    "**2.2 Create a gripper object for accessing the APIs**"
   ]
  },
  {
   "cell_type": "markdown",
   "id": "3c9bb4bf",
   "metadata": {},
   "source": [
    "Import the *pyddh* module "
   ]
  },
  {
   "cell_type": "code",
   "execution_count": null,
   "id": "e81d81da",
   "metadata": {},
   "outputs": [],
   "source": [
    "import sys\n",
    "sys.path.append('../ddh_driver')\n",
    "import pyddh"
   ]
  },
  {
   "cell_type": "markdown",
   "id": "13443432",
   "metadata": {},
   "source": [
    "Create a *Gripper* object named `gripper` with the config file name: \"ddh\" in `/ddh_driver/config`"
   ]
  },
  {
   "cell_type": "code",
   "execution_count": null,
   "id": "d81264d8",
   "metadata": {},
   "outputs": [],
   "source": [
    "gripper = Gripper(\"default\")"
   ]
  },
  {
   "cell_type": "markdown",
   "id": "68bb0bb2",
   "metadata": {},
   "source": [
    "**2.3 Test the gripper's connection and motors' control**"
   ]
  },
  {
   "cell_type": "markdown",
   "id": "d4ad2c18",
   "metadata": {},
   "source": [
    "Start the controller and the motors will hold its position."
   ]
  },
  {
   "cell_type": "code",
   "execution_count": null,
   "id": "d0ace9a0",
   "metadata": {},
   "outputs": [],
   "source": [
    "gripper.arm()"
   ]
  },
  {
   "cell_type": "markdown",
   "id": "3a9947b4",
   "metadata": {},
   "source": [
    "Check if all the four motors are working. If not, turn off the power supply of the *Odrive* motor driver and secure the encoder's wires connection. Then, turn on the power supply and restart the program."
   ]
  },
  {
   "cell_type": "markdown",
   "id": "3251e954",
   "metadata": {},
   "source": [
    "You can set the position of fingertips by running"
   ]
  },
  {
   "cell_type": "code",
   "execution_count": null,
   "id": "bb30f980",
   "metadata": {},
   "outputs": [],
   "source": [
    "gripper.set_left_tip((150,0))\n",
    "gripper.set_right_tip((150,0))"
   ]
  },
  {
   "cell_type": "markdown",
   "id": "f84a6412",
   "metadata": {},
   "source": [
    "To turn off the motors' control, run:"
   ]
  },
  {
   "cell_type": "code",
   "execution_count": null,
   "id": "f7b8bccc",
   "metadata": {},
   "outputs": [],
   "source": [
    "gripper.disarm()"
   ]
  },
  {
   "cell_type": "markdown",
   "id": "fc5d07f9",
   "metadata": {},
   "source": [
    "## 3. Execute *High-Speed Scooping*"
   ]
  },
  {
   "cell_type": "markdown",
   "id": "239bb894",
   "metadata": {},
   "source": [
    "**3.1 Import the *high-speed scooping* module**"
   ]
  },
  {
   "cell_type": "markdown",
   "id": "788b9699",
   "metadata": {},
   "source": [
    "Import the class *HighSpeedScooping* from the module *scooping_primitives*"
   ]
  },
  {
   "cell_type": "code",
   "execution_count": null,
   "id": "204c2aeb",
   "metadata": {},
   "outputs": [],
   "source": [
    "from scooping_primitives import HighSpeedScooping "
   ]
  },
  {
   "cell_type": "markdown",
   "id": "4ed9a1d8",
   "metadata": {},
   "source": [
    "Create a *HighSpeedScooping* object named `scoop` with the object `ur`, `gripper`, and config file name: \"hss\" in `/config`"
   ]
  },
  {
   "cell_type": "code",
   "execution_count": null,
   "id": "2aa36c91",
   "metadata": {},
   "outputs": [],
   "source": [
    "scoop = HighSpeedScooping(ur, gripper, \"hss\")"
   ]
  },
  {
   "cell_type": "markdown",
   "id": "f721cb44",
   "metadata": {},
   "source": [
    "**3.2 Execute the task**"
   ]
  },
  {
   "cell_type": "markdown",
   "id": "8f54dd78",
   "metadata": {},
   "source": [
    "First, set the pose of both the robot and gripper above the object with the following parameters for example:\n",
    "\n",
    "![](../media/HSS_obj_config.png|width=400px)\n",
    "\n",
    "2D pose of the object located at `x = -0.5 (meter)`, `y = 0.5 (meter)`, and the orientation: `angle_relative_to_x_axis = 45 (degree)` in the UR10 base frame"
   ]
  },
  {
   "cell_type": "code",
   "execution_count": null,
   "id": "ba9da372",
   "metadata": {},
   "outputs": [],
   "source": [
    "x_obj = -0.5\n",
    "y_obj = 0.5\n",
    "q_obj = 45\n",
    "scoop.initialize_pose((x_obj, y_obj, q_obj))"
   ]
  },
  {
   "cell_type": "markdown",
   "id": "08244d0b",
   "metadata": {},
   "source": [
    "The picking motion will then be executed as follows:\n",
    "1. The arm accelerates towards the surface\n",
    "2. The gripper detects the collision with the motors and close the digits to scoop up the object\n",
    "3. The robot moving down accelerates upward to take the gripper off from the surface\n",
    "\n",
    "with the function below:"
   ]
  },
  {
   "cell_type": "code",
   "execution_count": null,
   "id": "a7ba2c22",
   "metadata": {},
   "outputs": [],
   "source": [
    "scoop.simple_scoop()"
   ]
  },
  {
   "cell_type": "markdown",
   "id": "76701802",
   "metadata": {},
   "source": [
    "The parameters of *HighSpeedScooping*, such as object's dimensions, arm's speed, digit stiffness, etc., can be changed in [`/config/hss.yaml`](../config/hss.yaml)"
   ]
  }
 ],
 "metadata": {
  "kernelspec": {
   "display_name": "Python 3",
   "language": "python",
   "name": "python3"
  },
  "language_info": {
   "codemirror_mode": {
    "name": "ipython",
    "version": 3
   },
   "file_extension": ".py",
   "mimetype": "text/x-python",
   "name": "python",
   "nbconvert_exporter": "python",
   "pygments_lexer": "ipython3",
   "version": "3.6.13"
  }
 },
 "nbformat": 4,
 "nbformat_minor": 5
}
