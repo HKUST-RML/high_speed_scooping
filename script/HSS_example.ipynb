{
 "cells": [
  {
   "cell_type": "markdown",
   "id": "227d8491",
   "metadata": {},
   "source": [
    "# Example of Running *High-Speed Scooping*"
   ]
  },
  {
   "cell_type": "markdown",
   "id": "f54cdfc6",
   "metadata": {},
   "source": [
    "## 1. Connect to UR10 robot arm"
   ]
  },
  {
   "cell_type": "markdown",
   "id": "71f4f2f9",
   "metadata": {},
   "source": [
    "**1.1 Import the urx package from the local directory**"
   ]
  },
  {
   "cell_type": "markdown",
   "id": "242ab0e4",
   "metadata": {},
   "source": [
    "Add the path /high_speed_scooping to the python environment at the first index"
   ]
  },
  {
   "cell_type": "code",
   "execution_count": null,
   "id": "8da10218",
   "metadata": {},
   "outputs": [],
   "source": [
    "import sys\n",
    "sys.path.insert(0,'..') "
   ]
  },
  {
   "cell_type": "markdown",
   "id": "208c7cb2",
   "metadata": {},
   "source": [
    "Import the package. A message \"importing urx from /high_speed_scooping\" will show up if you are import the local urx package"
   ]
  },
  {
   "cell_type": "code",
   "execution_count": null,
   "id": "bc46116f",
   "metadata": {},
   "outputs": [],
   "source": [
    "import urx"
   ]
  },
  {
   "cell_type": "markdown",
   "id": "d315789d",
   "metadata": {},
   "source": [
    "**1.2 Create an ur10 object for accessing the APIs**"
   ]
  },
  {
   "cell_type": "markdown",
   "id": "37307fed",
   "metadata": {},
   "source": [
    "Create a *Robot* object named `ur` with the IP address of your robot"
   ]
  },
  {
   "cell_type": "code",
   "execution_count": null,
   "id": "a8f07631",
   "metadata": {},
   "outputs": [],
   "source": [
    "ur = urx.Robot(\"192.168.1.10\", use_rt=True) "
   ]
  },
  {
   "cell_type": "markdown",
   "id": "cab05a50",
   "metadata": {},
   "source": [
    "Get the current pose of the robot and print it to verify your connection. Check if the printed coordinate matches with your robot"
   ]
  },
  {
   "cell_type": "code",
   "execution_count": null,
   "id": "88e628c1",
   "metadata": {},
   "outputs": [],
   "source": [
    "pose = ur.get_pose()\n",
    "print(pose)"
   ]
  },
  {
   "cell_type": "markdown",
   "id": "88f65525",
   "metadata": {},
   "source": [
    "## 2. Connect to the direct-drive gripper"
   ]
  },
  {
   "cell_type": "markdown",
   "id": "d4814fbd",
   "metadata": {},
   "source": [
    "**2.1 Create an gripper for accessing the APIs**"
   ]
  },
  {
   "cell_type": "markdown",
   "id": "9f46099d",
   "metadata": {},
   "source": [
    "Import the class *DDGripper* from the *ddh* module "
   ]
  },
  {
   "cell_type": "code",
   "execution_count": null,
   "id": "ca257aff",
   "metadata": {},
   "outputs": [],
   "source": [
    "from ddh import DDGripper"
   ]
  },
  {
   "cell_type": "markdown",
   "id": "6c5027ed",
   "metadata": {},
   "source": [
    "Create a *DDGripper* object named `gripper` with the config file name: \"ddh_scooping\" in `/config`"
   ]
  },
  {
   "cell_type": "code",
   "execution_count": null,
   "id": "f744ca53",
   "metadata": {},
   "outputs": [],
   "source": [
    "gripper = DDGripper(\"ddh_scooping\")"
   ]
  },
  {
   "cell_type": "markdown",
   "id": "18c333ac",
   "metadata": {},
   "source": [
    "**2.2 Test the gripper's connection and motors' control**"
   ]
  },
  {
   "cell_type": "markdown",
   "id": "0e466709",
   "metadata": {},
   "source": [
    "Start the controller and the motors will hold its position."
   ]
  },
  {
   "cell_type": "code",
   "execution_count": null,
   "id": "8ac0d843",
   "metadata": {},
   "outputs": [],
   "source": [
    "gripper.arm()"
   ]
  },
  {
   "cell_type": "markdown",
   "id": "8d958982",
   "metadata": {},
   "source": [
    "Check if all the four motors are working. \n",
    "\n",
    "If not, turn off the power supply of the *Odrive* motor driver and secure the encoder's wires connection. Then, turn on the power supply and restart the program."
   ]
  },
  {
   "cell_type": "markdown",
   "id": "26ccaa7a",
   "metadata": {},
   "source": [
    "Set the position of fingertips by"
   ]
  },
  {
   "cell_type": "code",
   "execution_count": null,
   "id": "6b942328",
   "metadata": {},
   "outputs": [],
   "source": [
    "gripper.set_left_tip((150,0))\n",
    "gripper.set_right_tip((150,0))"
   ]
  },
  {
   "cell_type": "markdown",
   "id": "e72f9480",
   "metadata": {},
   "source": [
    "To turn off the motors' control, run:"
   ]
  },
  {
   "cell_type": "code",
   "execution_count": null,
   "id": "f7ab8563",
   "metadata": {},
   "outputs": [],
   "source": [
    "gripper.disarm()"
   ]
  },
  {
   "cell_type": "markdown",
   "id": "e455ac60",
   "metadata": {},
   "source": [
    "## 3. Execute *High-Speed Scooping*"
   ]
  },
  {
   "cell_type": "markdown",
   "id": "a1d64293",
   "metadata": {},
   "source": [
    "**3.1 Import the *high-speed scooping* module**"
   ]
  },
  {
   "cell_type": "markdown",
   "id": "e1482468",
   "metadata": {},
   "source": [
    "Import the class *HighSpeedScooping* from the module *scooping_primitives*"
   ]
  },
  {
   "cell_type": "code",
   "execution_count": null,
   "id": "7f06c7e5",
   "metadata": {},
   "outputs": [],
   "source": [
    "from scooping_primitives import HighSpeedScooping "
   ]
  },
  {
   "cell_type": "markdown",
   "id": "e429360f",
   "metadata": {},
   "source": [
    "Create a *HighSpeedScooping* object named `scoop` with the object `ur`, `gripper`, and config file name: \"hss\" in `/config`"
   ]
  },
  {
   "cell_type": "code",
   "execution_count": null,
   "id": "4a2d6fef",
   "metadata": {},
   "outputs": [],
   "source": [
    "scoop = HighSpeedScooping(ur, gripper, \"hss\")"
   ]
  },
  {
   "cell_type": "markdown",
   "id": "6ba730b6",
   "metadata": {},
   "source": [
    "**3.2 Execute the task**"
   ]
  },
  {
   "cell_type": "markdown",
   "id": "714484df",
   "metadata": {},
   "source": [
    "Set the pose of both the robot and gripper above the object with the parameters:\n",
    "\n",
    "2D pose of the object located at `x = -0.5` (meter), `y = 0.5` (meter),\n",
    "\n",
    "and the orientation: `angle_relative_to_x_axis = 45` (degree) in the UR10 base frame"
   ]
  },
  {
   "cell_type": "code",
   "execution_count": null,
   "id": "1cd7e2ff",
   "metadata": {},
   "outputs": [],
   "source": [
    "scoop.initialize_pose((-0.5, 0.5, 45))"
   ]
  },
  {
   "cell_type": "markdown",
   "id": "4e45e6d4",
   "metadata": {},
   "source": [
    "The picking motion will be executed as follows:\n",
    "1. The arm accelerates towards the surface\n",
    "2. The gripper detects the collision with the motors and close the digits to scoop up the object\n",
    "3. The robot moving down accelerates upward to take the gripper off from the surface"
   ]
  },
  {
   "cell_type": "code",
   "execution_count": null,
   "id": "3e16f3dc",
   "metadata": {},
   "outputs": [],
   "source": [
    "scoop.simple_scoop()"
   ]
  },
  {
   "cell_type": "markdown",
   "id": "a35c85eb",
   "metadata": {},
   "source": [
    "The parameters of *HighSpeedScooping*, such as object's dimensions, arm's speed, digit stiffness, etc., can be changed in `/config/hss.yaml`"
   ]
  }
 ],
 "metadata": {
  "kernelspec": {
   "display_name": "Python 3",
   "language": "python",
   "name": "python3"
  },
  "language_info": {
   "codemirror_mode": {
    "name": "ipython",
    "version": 3
   },
   "file_extension": ".py",
   "mimetype": "text/x-python",
   "name": "python",
   "nbconvert_exporter": "python",
   "pygments_lexer": "ipython3",
   "version": "3.6.13"
  }
 },
 "nbformat": 4,
 "nbformat_minor": 5
}
