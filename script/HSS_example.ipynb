{
 "cells": [
  {
   "cell_type": "markdown",
   "id": "c48aac3b",
   "metadata": {},
   "source": [
    "# Example of Running *High-Speed Scooping*"
   ]
  },
  {
   "cell_type": "markdown",
   "id": "a36d74d5",
   "metadata": {},
   "source": [
    "## 1. Connect to UR10 robot arm"
   ]
  },
  {
   "cell_type": "markdown",
   "id": "cdbc441b",
   "metadata": {},
   "source": [
    "**1.1 Import the urx package from the local directory**"
   ]
  },
  {
   "cell_type": "markdown",
   "id": "9dcb3b04",
   "metadata": {},
   "source": [
    "Add the path /high_speed_scooping to the python environment at the first index"
   ]
  },
  {
   "cell_type": "code",
   "execution_count": null,
   "id": "e64ed854",
   "metadata": {},
   "outputs": [],
   "source": [
    "import sys\n",
    "sys.path.insert(0,'..') "
   ]
  },
  {
   "cell_type": "markdown",
   "id": "1489fd11",
   "metadata": {},
   "source": [
    "Import the package. A message \"importing urx from /high_speed_scooping\" will show up if you are import the local urx package"
   ]
  },
  {
   "cell_type": "code",
   "execution_count": null,
   "id": "dcac28b8",
   "metadata": {},
   "outputs": [],
   "source": [
    "import urx"
   ]
  },
  {
   "cell_type": "markdown",
   "id": "1bb1621e",
   "metadata": {},
   "source": [
    "**1.2 Create an ur10 object for accessing the APIs**"
   ]
  },
  {
   "cell_type": "markdown",
   "id": "539844da",
   "metadata": {},
   "source": [
    "create a *Robot* object named `ur` with the IP address of your robot"
   ]
  },
  {
   "cell_type": "code",
   "execution_count": null,
   "id": "fdf31bf0",
   "metadata": {},
   "outputs": [],
   "source": [
    "ur = urx.Robot(\"192.168.1.10\", use_rt=True) "
   ]
  },
  {
   "cell_type": "markdown",
   "id": "62f5a09c",
   "metadata": {},
   "source": [
    "Get the current pose of the robot and print it to verify your connection. Check if the printed coordinate match with your robot"
   ]
  },
  {
   "cell_type": "code",
   "execution_count": null,
   "id": "7c21b5fb",
   "metadata": {},
   "outputs": [],
   "source": [
    "pose = ur.get_pose()\n",
    "print(pose)"
   ]
  },
  {
   "cell_type": "markdown",
   "id": "54b5d997",
   "metadata": {},
   "source": [
    "## 2. Connect to the direct-drive gripper"
   ]
  },
  {
   "cell_type": "markdown",
   "id": "b688e733",
   "metadata": {},
   "source": [
    "**2.1 Create an gripper for accessing the APIs**"
   ]
  },
  {
   "cell_type": "markdown",
   "id": "752f2ee1",
   "metadata": {},
   "source": [
    "Import the class *DDGripper* from the *ddh* module "
   ]
  },
  {
   "cell_type": "code",
   "execution_count": null,
   "id": "744441f6",
   "metadata": {},
   "outputs": [],
   "source": [
    "from ddh import DDGripper"
   ]
  },
  {
   "cell_type": "markdown",
   "id": "26fa9e22",
   "metadata": {},
   "source": [
    "Create a *DDGripper* object named `gripper` with the config file name: \"ddh_scooping\" in `/config`"
   ]
  },
  {
   "cell_type": "code",
   "execution_count": null,
   "id": "090b7ac5",
   "metadata": {},
   "outputs": [],
   "source": [
    "gripper = DDGripper(\"ddh_scooping\")"
   ]
  },
  {
   "cell_type": "markdown",
   "id": "fd5a36fd",
   "metadata": {},
   "source": [
    "**2.2 Test the gripper's connection and motors' control**"
   ]
  },
  {
   "cell_type": "markdown",
   "id": "87dc3fc3",
   "metadata": {},
   "source": [
    "Start the controller and the motors will hold its position."
   ]
  },
  {
   "cell_type": "code",
   "execution_count": null,
   "id": "c4912822",
   "metadata": {},
   "outputs": [],
   "source": [
    "gripper.arm()"
   ]
  },
  {
   "cell_type": "markdown",
   "id": "ebce336a",
   "metadata": {},
   "source": [
    "Check if the four motors are working. "
   ]
  },
  {
   "cell_type": "markdown",
   "id": "cb55df2f",
   "metadata": {},
   "source": [
    "Set the position of fingertips by"
   ]
  },
  {
   "cell_type": "code",
   "execution_count": null,
   "id": "88c9a41b",
   "metadata": {},
   "outputs": [],
   "source": [
    "gripper.set_left_tip((150,0))\n",
    "gripper.set_right_tip((150,0))"
   ]
  },
  {
   "cell_type": "markdown",
   "id": "ad74dc3e",
   "metadata": {},
   "source": [
    "To turn off the motors' control, run:"
   ]
  },
  {
   "cell_type": "code",
   "execution_count": null,
   "id": "1c02bc8e",
   "metadata": {},
   "outputs": [],
   "source": [
    "gripper.disarm()"
   ]
  },
  {
   "cell_type": "markdown",
   "id": "6135af23",
   "metadata": {},
   "source": [
    "## 3. Execute *High-Speed Scooping*"
   ]
  },
  {
   "cell_type": "markdown",
   "id": "c2460d15",
   "metadata": {},
   "source": [
    "**3.1 Import the *high-speed scooping* module**"
   ]
  },
  {
   "cell_type": "markdown",
   "id": "645ed6f4",
   "metadata": {},
   "source": [
    "Import the class *HighSpeedScooping* from the module *scooping_primitives*"
   ]
  },
  {
   "cell_type": "code",
   "execution_count": null,
   "id": "2b1c78f2",
   "metadata": {},
   "outputs": [],
   "source": [
    "from scooping_primitives import HighSpeedScooping "
   ]
  },
  {
   "cell_type": "markdown",
   "id": "3a7f2409",
   "metadata": {},
   "source": [
    "Create a *HighSpeedScooping* object named `scoop` with the object `ur`, `gripper`, and config file name: \"hss\" in `/config`"
   ]
  },
  {
   "cell_type": "code",
   "execution_count": null,
   "id": "2c36fe3b",
   "metadata": {},
   "outputs": [],
   "source": [
    "scoop = HighSpeedScooping(ur, gripper, \"hss\")"
   ]
  },
  {
   "cell_type": "markdown",
   "id": "956c89a9",
   "metadata": {},
   "source": [
    "**3.2 Execute the task**"
   ]
  },
  {
   "cell_type": "markdown",
   "id": "5715bbb4",
   "metadata": {},
   "source": [
    "Initialize the pose of both the robot and gripper above the object with the parameters:\n",
    "\n",
    "2D pose of the object located at `x = -0.5` (meter), `y = 0.5` (meter),\n",
    "\n",
    "and the orientation: `angle_relative_to_x_axis = 45` (degree)"
   ]
  },
  {
   "cell_type": "code",
   "execution_count": null,
   "id": "6cebb82e",
   "metadata": {},
   "outputs": [],
   "source": [
    "scoop.initialize_pose((-0.5, 0.5, 45))"
   ]
  },
  {
   "cell_type": "markdown",
   "id": "2909bea8",
   "metadata": {},
   "source": [
    "The picking motion will be executed as follows:\n",
    "1. The arm accelerates towards the surface\n",
    "2. The gripper detects the collision with the motors and close the digits to scoop up the object\n",
    "3. The robot moving down accelerates upward to take the gripper off from the surface"
   ]
  },
  {
   "cell_type": "code",
   "execution_count": null,
   "id": "0493c039",
   "metadata": {},
   "outputs": [],
   "source": [
    "scoop.simple_scoop()"
   ]
  },
  {
   "cell_type": "markdown",
   "id": "5894f170",
   "metadata": {},
   "source": [
    "The parameters of *HighSpeedScooping* can be changed in `/config/hss.yaml`"
   ]
  }
 ],
 "metadata": {
  "kernelspec": {
   "display_name": "Python 3",
   "language": "python",
   "name": "python3"
  },
  "language_info": {
   "codemirror_mode": {
    "name": "ipython",
    "version": 3
   },
   "file_extension": ".py",
   "mimetype": "text/x-python",
   "name": "python",
   "nbconvert_exporter": "python",
   "pygments_lexer": "ipython3",
   "version": "3.6.13"
  }
 },
 "nbformat": 4,
 "nbformat_minor": 5
}
