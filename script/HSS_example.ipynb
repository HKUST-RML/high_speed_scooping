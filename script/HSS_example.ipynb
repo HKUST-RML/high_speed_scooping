{
 "cells": [
  {
   "cell_type": "markdown",
   "id": "ddab7ed9",
   "metadata": {},
   "source": [
    "# Example of Running *High-Speed Scooping*"
   ]
  },
  {
   "cell_type": "markdown",
   "id": "9872801e",
   "metadata": {},
   "source": [
    "## 1. Connect to UR10 robot arm"
   ]
  },
  {
   "cell_type": "markdown",
   "id": "f82ed648",
   "metadata": {},
   "source": [
    "**1.1 Import the urx package from the local directory**"
   ]
  },
  {
   "cell_type": "markdown",
   "id": "f22386c2",
   "metadata": {},
   "source": [
    "Add the path /high_speed_scooping to the python environment at the first index"
   ]
  },
  {
   "cell_type": "code",
   "execution_count": null,
   "id": "540fdd1e",
   "metadata": {},
   "outputs": [],
   "source": [
    "import sys\n",
    "sys.path.insert(0,'..') "
   ]
  },
  {
   "cell_type": "markdown",
   "id": "6f33f986",
   "metadata": {},
   "source": [
    "Import the package. A message \"importing urx from /high_speed_scooping\" will show up if you are import the local urx package"
   ]
  },
  {
   "cell_type": "code",
   "execution_count": null,
   "id": "efe9cfcf",
   "metadata": {},
   "outputs": [],
   "source": [
    "import urx"
   ]
  },
  {
   "cell_type": "markdown",
   "id": "ec61b764",
   "metadata": {},
   "source": [
    "**1.2 Create an ur10 object for accessing the APIs**"
   ]
  },
  {
   "cell_type": "markdown",
   "id": "1353dacb",
   "metadata": {},
   "source": [
    "Create a *Robot* object named `ur` with the IP address of your robot"
   ]
  },
  {
   "cell_type": "code",
   "execution_count": null,
   "id": "0a8b6707",
   "metadata": {},
   "outputs": [],
   "source": [
    "ur = urx.Robot(\"192.168.1.10\", use_rt=True) "
   ]
  },
  {
   "cell_type": "markdown",
   "id": "c23764de",
   "metadata": {},
   "source": [
    "Get the current pose of the robot and print it to verify your connection. Check if the printed coordinate matches with your robot"
   ]
  },
  {
   "cell_type": "code",
   "execution_count": null,
   "id": "d25b88f6",
   "metadata": {},
   "outputs": [],
   "source": [
    "pose = ur.get_pose()\n",
    "print(pose)"
   ]
  },
  {
   "cell_type": "markdown",
   "id": "5df6b942",
   "metadata": {},
   "source": [
    "## 2. Connect to the direct-drive gripper"
   ]
  },
  {
   "cell_type": "markdown",
   "id": "6fd5af5b",
   "metadata": {},
   "source": [
    "**2.1 Download driver package of our direct-drive hand**"
   ]
  },
  {
   "cell_type": "markdown",
   "id": "83a0aab1",
   "metadata": {},
   "source": [
    "```shell\n",
    "cd high_speed_scooping\n",
    "git clone https://github.com/HKUST-RML/ddh_driver\n",
    "cd ddh_driver\n",
    "pip3 install -r requirements.txt\n",
    "```"
   ]
  },
  {
   "cell_type": "markdown",
   "id": "083b1027",
   "metadata": {},
   "source": [
    "**2.2 Create a gripper object for accessing the APIs**"
   ]
  },
  {
   "cell_type": "markdown",
   "id": "056cfcb5",
   "metadata": {},
   "source": [
    "Import the *pyddh* module "
   ]
  },
  {
   "cell_type": "code",
   "execution_count": null,
   "id": "f3852618",
   "metadata": {},
   "outputs": [],
   "source": [
    "import sys\n",
    "sys.path.append('../ddh_driver')\n",
    "import pyddh"
   ]
  },
  {
   "cell_type": "markdown",
   "id": "9b69df72",
   "metadata": {},
   "source": [
    "Create a *Gripper* object named `gripper` with the config file name: \"default\" in `/ddh_driver/config`"
   ]
  },
  {
   "cell_type": "code",
   "execution_count": null,
   "id": "1383a799",
   "metadata": {},
   "outputs": [],
   "source": [
    "gripper = Gripper(\"default\")"
   ]
  },
  {
   "cell_type": "markdown",
   "id": "851d4d70",
   "metadata": {},
   "source": [
    "**2.3 Test the gripper's connection and motors' control**"
   ]
  },
  {
   "cell_type": "markdown",
   "id": "195f70cc",
   "metadata": {},
   "source": [
    "Start the controller and the motors will hold its position."
   ]
  },
  {
   "cell_type": "code",
   "execution_count": null,
   "id": "2d8156d3",
   "metadata": {},
   "outputs": [],
   "source": [
    "gripper.arm()"
   ]
  },
  {
   "cell_type": "markdown",
   "id": "4d55c666",
   "metadata": {},
   "source": [
    "Check if all the four motors are working. If not, turn off the power supply of the *Odrive* motor driver and secure the encoder's wires connection. Then, turn on the power supply and restart the program."
   ]
  },
  {
   "cell_type": "markdown",
   "id": "138a76c4",
   "metadata": {},
   "source": [
    "You can set the position of fingertips by running"
   ]
  },
  {
   "cell_type": "code",
   "execution_count": null,
   "id": "06d7c2bd",
   "metadata": {},
   "outputs": [],
   "source": [
    "gripper.set_left_tip((150,0))\n",
    "gripper.set_right_tip((150,0))"
   ]
  },
  {
   "cell_type": "markdown",
   "id": "e40f5c65",
   "metadata": {},
   "source": [
    "To turn off the motors' control, run:"
   ]
  },
  {
   "cell_type": "code",
   "execution_count": null,
   "id": "37316a27",
   "metadata": {},
   "outputs": [],
   "source": [
    "gripper.disarm()"
   ]
  },
  {
   "cell_type": "markdown",
   "id": "421a4556",
   "metadata": {},
   "source": [
    "## 3. Execute *High-Speed Scooping*"
   ]
  },
  {
   "cell_type": "markdown",
   "id": "0159da9c",
   "metadata": {},
   "source": [
    "**3.1 Import the *high-speed scooping* module**"
   ]
  },
  {
   "cell_type": "markdown",
   "id": "45ca6c13",
   "metadata": {},
   "source": [
    "Import the class *HighSpeedScooping* from the module *scooping_primitives*"
   ]
  },
  {
   "cell_type": "code",
   "execution_count": null,
   "id": "796be0a8",
   "metadata": {},
   "outputs": [],
   "source": [
    "from scooping_primitives import HighSpeedScooping "
   ]
  },
  {
   "cell_type": "markdown",
   "id": "4b135383",
   "metadata": {},
   "source": [
    "Create a *HighSpeedScooping* object named `scoop` with the object `ur`, `gripper`, and config file name: \"hss\" in `/config`"
   ]
  },
  {
   "cell_type": "code",
   "execution_count": null,
   "id": "0d98ad6d",
   "metadata": {},
   "outputs": [],
   "source": [
    "scoop = HighSpeedScooping(ur, gripper, \"hss\")"
   ]
  },
  {
   "cell_type": "markdown",
   "id": "45ff6d28",
   "metadata": {},
   "source": [
    "**3.2 Execute the task**"
   ]
  },
  {
   "attachments": {
    "HSS_obj_config-2.png": {
     "image/png": "[encoded data removed]"
    }
   },
   "cell_type": "markdown",
   "id": "33ba0589",
   "metadata": {},
   "source": [
    "First, set the pose of both the robot and gripper above the object with the following parameters for example:\n",
    "\n",
    "2D pose of the object located at `x = -0.5 (meter)`, `y = 0.5 (meter)`, and the orientation: `angle_relative_to_x_axis = 45 (degree)` in the UR10 base frame\n",
    "![HSS_obj_config-2.png](attachment:HSS_obj_config-2.png)"
   ]
  },
  {
   "cell_type": "code",
   "execution_count": null,
   "id": "5c80b248",
   "metadata": {},
   "outputs": [],
   "source": [
    "x_obj = -0.5\n",
    "y_obj = 0.5\n",
    "q_obj = 45\n",
    "scoop.initialize_pose((x_obj, y_obj, q_obj))"
   ]
  },
  {
   "cell_type": "markdown",
   "id": "758d2884",
   "metadata": {},
   "source": [
    "The picking motion will then be executed as follows:\n",
    "1. The arm accelerates towards the surface\n",
    "2. The gripper detects the collision with the motors and close the digits to scoop up the object\n",
    "3. The robot moving down accelerates upward to take the gripper off from the surface\n",
    "\n",
    "with the function below:"
   ]
  },
  {
   "cell_type": "code",
   "execution_count": null,
   "id": "44b84fac",
   "metadata": {},
   "outputs": [],
   "source": [
    "scoop.simple_scoop()"
   ]
  },
  {
   "cell_type": "markdown",
   "id": "974c0df9",
   "metadata": {},
   "source": [
    "The parameters of *HighSpeedScooping*, such as object's dimensions, arm's speed, digit stiffness, etc., can be changed in [`/config/hss.yaml`](../config/hss.yaml)"
   ]
  }
 ],
 "metadata": {
  "kernelspec": {
   "display_name": "Python 3",
   "language": "python",
   "name": "python3"
  },
  "language_info": {
   "codemirror_mode": {
    "name": "ipython",
    "version": 3
   },
   "file_extension": ".py",
   "mimetype": "text/x-python",
   "name": "python",
   "nbconvert_exporter": "python",
   "pygments_lexer": "ipython3",
   "version": "3.6.13"
  }
 },
 "nbformat": 4,
 "nbformat_minor": 5
}
