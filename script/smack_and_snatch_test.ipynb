{
 "cells": [
  {
   "cell_type": "markdown",
   "metadata": {},
   "source": [
    "#### Import"
   ]
  },
  {
   "cell_type": "code",
   "execution_count": null,
   "metadata": {},
   "outputs": [],
   "source": [
    "#!/usr/bin/env python3\n",
    "import time\n",
    "import numpy as np\n",
    "from math import *"
   ]
  },
  {
   "cell_type": "code",
   "execution_count": null,
   "metadata": {},
   "outputs": [],
   "source": [
    "import urx\n",
    "import math3d as m3d\n",
    "ur = urx.Robot(\"192.168.1.10\")\n",
    "ur.set_tcp((0, 0, 0, 0, 0, 0))\n",
    "tcp_acc=0.05\n",
    "tcp_vel=0.05\n",
    "time.sleep(0.2)\n",
    "pose = ur.get_pose()\n",
    "print(pose)"
   ]
  },
  {
   "cell_type": "code",
   "execution_count": null,
   "metadata": {},
   "outputs": [],
   "source": [
    "from ddh import DDGripper"
   ]
  },
  {
   "cell_type": "code",
   "execution_count": null,
   "metadata": {},
   "outputs": [],
   "source": [
    "gripper = DDGripper(\"ddh_default\")"
   ]
  },
  {
   "cell_type": "markdown",
   "metadata": {},
   "source": [
    "#### testing"
   ]
  },
  {
   "cell_type": "code",
   "execution_count": null,
   "metadata": {},
   "outputs": [],
   "source": [
    "gripper.disarm()"
   ]
  },
  {
   "cell_type": "code",
   "execution_count": null,
   "metadata": {},
   "outputs": [],
   "source": [
    "gripper.arm(150)\n",
    "gripper.set_parallel_jaw(10, 0)\n",
    "time.sleep(0.5)\n",
    "a2_init = (gripper.left_a2 + gripper.right_a2)/2 "
   ]
  },
  {
   "cell_type": "code",
   "execution_count": null,
   "metadata": {},
   "outputs": [],
   "source": [
    "gripper.set_stiffness(50)"
   ]
  },
  {
   "cell_type": "code",
   "execution_count": null,
   "metadata": {},
   "outputs": [],
   "source": [
    "gripper.set_left_a1_phi(-5, 20)\n",
    "gripper.set_right_a1_phi(5, -20)"
   ]
  },
  {
   "cell_type": "code",
   "execution_count": null,
   "metadata": {},
   "outputs": [],
   "source": [
    "gripper.set_left_a1_phi(-0, 20)\n",
    "gripper.set_right_a1_phi(0, -20)"
   ]
  },
  {
   "cell_type": "code",
   "execution_count": null,
   "metadata": {},
   "outputs": [],
   "source": [
    "print(gripper.left_a2,gripper.right_a2)"
   ]
  },
  {
   "cell_type": "code",
   "execution_count": null,
   "metadata": {},
   "outputs": [],
   "source": [
    "# check finger collision\n",
    "while 1:\n",
    "    a2_cur = (gripper.left_a2 + gripper.right_a2)/2\n",
    "#     print(a2_cur)\n",
    "    if a2_cur - a2_init > 0.5:\n",
    "        print (\"Collision detected!\")\n",
    "        break"
   ]
  },
  {
   "cell_type": "code",
   "execution_count": null,
   "metadata": {},
   "outputs": [],
   "source": []
  },
  {
   "cell_type": "code",
   "execution_count": null,
   "metadata": {},
   "outputs": [],
   "source": [
    "print(ur.getl())"
   ]
  },
  {
   "cell_type": "code",
   "execution_count": null,
   "metadata": {},
   "outputs": [],
   "source": [
    "init = (-0.73, 0.17, 0.4, pi, 0, 0)\n",
    "ur.movel(init, tcp_acc, tcp_vel)"
   ]
  },
  {
   "cell_type": "code",
   "execution_count": null,
   "metadata": {},
   "outputs": [],
   "source": [
    "smack_vel = 100\n",
    "smack_acc = 0.3\n",
    "stop_acc = 0.5 #0.5\n",
    "ur.speedl([0,0,-smack_vel,0,0,0],smack_acc,5)"
   ]
  },
  {
   "cell_type": "code",
   "execution_count": null,
   "metadata": {},
   "outputs": [],
   "source": [
    "ur.speedl([0,0,smack_vel,0,0,0],stop_acc,5)\n",
    "time.sleep(0.5)\n",
    "ur.stopl(stop_acc)"
   ]
  },
  {
   "cell_type": "markdown",
   "metadata": {},
   "source": [
    "#### Smack and Snatch experiment"
   ]
  },
  {
   "cell_type": "code",
   "execution_count": null,
   "metadata": {},
   "outputs": [],
   "source": [
    "# init pose\n",
    "init = (-0.73, 0.25, 0.4, pi, 0, 0)\n",
    "ur.movel(init, tcp_acc, tcp_vel)\n",
    "gripper.arm(100)\n",
    "gripper.set_parallel_jaw(10, 0) #10,0\n",
    "time.sleep(0.5)\n",
    "a2_init = (gripper.left_a2 + gripper.right_a2)/2 "
   ]
  },
  {
   "cell_type": "code",
   "execution_count": null,
   "metadata": {},
   "outputs": [],
   "source": [
    "# robot go down\n",
    "smack_vel = 100\n",
    "smack_acc = 0.3\n",
    "stop_smack_acc = 7\n",
    "reverse_vel = 250\n",
    "reverse_acc = 1.0 #0.5\n",
    "stop_acc = 0.5\n",
    "ur.speedl([0,0,-smack_vel,0,0,0],smack_acc,5)\n",
    "# robot detect collision, then stop, close gripper, and go up\n",
    "while 1:\n",
    "    a2_cur = (gripper.left_a2 + gripper.right_a2)/2\n",
    "    #print(a2_cur)\n",
    "    if a2_cur - a2_init > 0.3:\n",
    "        print (\"Collision detected!\")\n",
    "        gripper.set_left_a1_phi(-0, 20)\n",
    "        gripper.set_right_a1_phi(0, -20)\n",
    "        ur.stopl(stop_smack_acc)\n",
    "        ur.speedl([0,0,reverse_vel,0,0,0],reverse_acc,5)\n",
    "        time.sleep(0.25)\n",
    "        ur.stopl(stop_acc)\n",
    "        break"
   ]
  },
  {
   "cell_type": "code",
   "execution_count": null,
   "metadata": {},
   "outputs": [],
   "source": []
  }
 ],
 "metadata": {
  "kernelspec": {
   "display_name": "Python 3",
   "language": "python",
   "name": "python3"
  },
  "language_info": {
   "codemirror_mode": {
    "name": "ipython",
    "version": 3
   },
   "file_extension": ".py",
   "mimetype": "text/x-python",
   "name": "python",
   "nbconvert_exporter": "python",
   "pygments_lexer": "ipython3",
   "version": "3.6.13"
  }
 },
 "nbformat": 4,
 "nbformat_minor": 5
}