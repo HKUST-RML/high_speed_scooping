{
 "cells": [
  {
   "cell_type": "code",
   "execution_count": null,
   "id": "cc0ff580",
   "metadata": {},
   "outputs": [],
   "source": [
    "#!/usr/bin/env python3\n",
    "import time\n",
    "import numpy as np\n",
    "from math import *"
   ]
  },
  {
   "cell_type": "code",
   "execution_count": null,
   "id": "545bef4f",
   "metadata": {},
   "outputs": [],
   "source": [
    "import urx\n",
    "import math3d as m3d\n",
    "ur = urx.Robot(\"192.168.1.10\")\n",
    "ur.set_tcp((0, 0, 0, 0, 0, 0))\n",
    "tcp_acc=0.05\n",
    "tcp_vel=0.05\n",
    "time.sleep(0.2)\n",
    "pose = ur.get_pose()\n",
    "print(pose)"
   ]
  },
  {
   "cell_type": "code",
   "execution_count": null,
   "id": "75917241",
   "metadata": {},
   "outputs": [],
   "source": [
    "import ddh"
   ]
  },
  {
   "cell_type": "code",
   "execution_count": null,
   "id": "be0901e9",
   "metadata": {},
   "outputs": [],
   "source": [
    "gripper = ddh.DDGripper()"
   ]
  },
  {
   "cell_type": "code",
   "execution_count": null,
   "id": "37afea53",
   "metadata": {},
   "outputs": [],
   "source": [
    "gripper.arm(150)\n",
    "gripper.set_parallel_jaw(10, 0)"
   ]
  },
  {
   "cell_type": "code",
   "execution_count": null,
   "id": "34c0ba38",
   "metadata": {},
   "outputs": [],
   "source": [
    "gripper.set_left_a1_phi(5, 20)\n",
    "gripper.set_right_a1_phi(-5, -20)"
   ]
  },
  {
   "cell_type": "code",
   "execution_count": null,
   "id": "fac95604",
   "metadata": {},
   "outputs": [],
   "source": [
    "gripper.set_left_a1_phi(-0, 25)\n",
    "gripper.set_right_a1_phi(0, -25)"
   ]
  },
  {
   "cell_type": "code",
   "execution_count": null,
   "id": "434458d8",
   "metadata": {},
   "outputs": [],
   "source": [
    "print(gripper.left_a2,gripper.right_a2)"
   ]
  },
  {
   "cell_type": "code",
   "execution_count": null,
   "id": "c9a8f813",
   "metadata": {},
   "outputs": [],
   "source": []
  },
  {
   "cell_type": "code",
   "execution_count": null,
   "id": "ab8cb811",
   "metadata": {},
   "outputs": [],
   "source": [
    "print(ur.getl())"
   ]
  },
  {
   "cell_type": "code",
   "execution_count": null,
   "id": "5d0cf2d4",
   "metadata": {},
   "outputs": [],
   "source": [
    "init = (-0.3, 0.45, 0.29, pi, 0, 0)\n",
    "ur.movel(init, tcp_acc, 0.1)"
   ]
  },
  {
   "cell_type": "code",
   "execution_count": null,
   "id": "fbf0502e",
   "metadata": {},
   "outputs": [],
   "source": [
    "ur.stopl()"
   ]
  },
  {
   "cell_type": "code",
   "execution_count": null,
   "id": "388fb34e",
   "metadata": {},
   "outputs": [],
   "source": [
    "ur.speedl([400,0,0,0,0,0],0.5,7)"
   ]
  },
  {
   "cell_type": "code",
   "execution_count": null,
   "id": "7b231a81",
   "metadata": {},
   "outputs": [],
   "source": [
    "ur.stopl(2)\n",
    "ur.speedl([-400,0,0,0,0,0],0.2,7)"
   ]
  },
  {
   "cell_type": "code",
   "execution_count": null,
   "id": "0cf5d863",
   "metadata": {},
   "outputs": [],
   "source": [
    "ur.stopl()"
   ]
  },
  {
   "cell_type": "code",
   "execution_count": null,
   "id": "62b8bd9e",
   "metadata": {},
   "outputs": [],
   "source": []
  }
 ],
 "metadata": {
  "kernelspec": {
   "display_name": "Python 3",
   "language": "python",
   "name": "python3"
  },
  "language_info": {
   "codemirror_mode": {
    "name": "ipython",
    "version": 3
   },
   "file_extension": ".py",
   "mimetype": "text/x-python",
   "name": "python",
   "nbconvert_exporter": "python",
   "pygments_lexer": "ipython3",
   "version": "3.6.13"
  }
 },
 "nbformat": 4,
 "nbformat_minor": 5
}
