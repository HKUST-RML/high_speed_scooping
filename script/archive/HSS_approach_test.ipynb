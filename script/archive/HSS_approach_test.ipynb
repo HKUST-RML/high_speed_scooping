{
 "cells": [
  {
   "cell_type": "code",
   "execution_count": null,
   "id": "39990e2f",
   "metadata": {},
   "outputs": [],
   "source": [
    "import sys\n",
    "sys.path.insert(0,'../../')\n",
    "import urx\n",
    "import time\n",
    "import math3d as m3d\n",
    "ur = urx.Robot(\"192.168.1.10\", use_rt=True)\n",
    "pose = ur.get_pose()\n",
    "print(pose)\n",
    "sys.path.insert('..')\n",
    "from ddh import Gripper\n",
    "from scooping_primitives import HighSpeedScooping"
   ]
  },
  {
   "cell_type": "code",
   "execution_count": null,
   "id": "a572c257",
   "metadata": {},
   "outputs": [],
   "source": [
    "gripper = Gripper(\"ddh_scooping\")\n",
    "scoop = HighSpeedScooping(ur, gripper, \"hss_card_fast\")"
   ]
  },
  {
   "cell_type": "code",
   "execution_count": null,
   "id": "67c51671",
   "metadata": {},
   "outputs": [],
   "source": [
    "scoop.initialize_pose((-0.509,0.45,180))\n",
    "time.sleep(0.5)\n",
    "a2_init = gripper.right_a2"
   ]
  },
  {
   "cell_type": "code",
   "execution_count": null,
   "id": "8eda74e4",
   "metadata": {},
   "outputs": [],
   "source": []
  },
  {
   "cell_type": "code",
   "execution_count": null,
   "id": "6fbaed25",
   "metadata": {},
   "outputs": [],
   "source": [
    "# smack and scoop\n",
    "smack_vel = 0.3 #100\n",
    "smack_acc = 0.3 #0.3\n",
    "stop_smack_acc = 3 #7\n",
    "reverse_vel = 0.3 # 250\n",
    "reverse_acc = 0.35 #1\n",
    "stop_acc = 0.5 #0.5\n",
    "stop_dist = 0.01\n",
    "\n",
    "# robot accelerate\n",
    "ur.speedl([0,0,-smack_vel,0,0,0],smack_acc,5)\n",
    "# robot detect collision, then stop, close gripper, and go up\n",
    "while 1:\n",
    "    a2_cur = gripper.right_a2\n",
    "    #print(a2_cur)\n",
    "    if a2_cur - a2_init > 0.3:\n",
    "        print (\"Collision detected!\")\n",
    "        z_spd = ur.get_tcp_speed(wait=False)[2]\n",
    "        stop_dec = (z_spd**2)/(2*stop_dist)\n",
    "        gripper.set_stiffness(20, 'R')\n",
    "#         gripper.set_left_tip((158, 38))\n",
    "#         gripper.set_right_tip((158, -38))\n",
    "        gripper.set_left_tip((157, 41))\n",
    "        gripper.set_right_tip((157, -41))\n",
    "#         ur.stopl(stop_smack_acc)\n",
    "        gripper.set_stiffness(100)\n",
    "        ur.speedl([0,0,reverse_vel,0,0,0],stop_smack_acc,5)\n",
    "        time.sleep(0.2)\n",
    "        ur.stopl(stop_acc)\n",
    "        break"
   ]
  },
  {
   "cell_type": "code",
   "execution_count": null,
   "id": "ff273dd6",
   "metadata": {},
   "outputs": [],
   "source": [
    "print(z_spd)\n",
    "print(stop_dec)"
   ]
  },
  {
   "cell_type": "code",
   "execution_count": null,
   "id": "34d1c0e8",
   "metadata": {},
   "outputs": [],
   "source": [
    "gripper.set_left_tip((157, 41))\n",
    "gripper.set_right_tip((157, -41))"
   ]
  },
  {
   "cell_type": "code",
   "execution_count": null,
   "id": "55937caa",
   "metadata": {},
   "outputs": [],
   "source": [
    "ur.stopl()"
   ]
  }
 ],
 "metadata": {
  "kernelspec": {
   "display_name": "Python 3",
   "language": "python",
   "name": "python3"
  },
  "language_info": {
   "codemirror_mode": {
    "name": "ipython",
    "version": 3
   },
   "file_extension": ".py",
   "mimetype": "text/x-python",
   "name": "python",
   "nbconvert_exporter": "python",
   "pygments_lexer": "ipython3",
   "version": "3.6.13"
  }
 },
 "nbformat": 4,
 "nbformat_minor": 5
}
