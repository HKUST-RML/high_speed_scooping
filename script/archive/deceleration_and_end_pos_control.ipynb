{
 "cells": [
  {
   "cell_type": "code",
   "execution_count": null,
   "id": "0b44dadd",
   "metadata": {},
   "outputs": [],
   "source": [
    "import sys\n",
    "sys.path.insert(0,'../../')\n",
    "import urx\n",
    "import time\n",
    "import math3d as m3d\n",
    "ur = urx.Robot(\"192.168.1.10\", use_rt=True)\n",
    "pose = ur.get_pose()\n",
    "print(pose)"
   ]
  },
  {
   "cell_type": "code",
   "execution_count": null,
   "id": "b797bdf7",
   "metadata": {},
   "outputs": [],
   "source": [
    "ur.speedl([0.4,0,0,0,0,0],0.4,10)"
   ]
  },
  {
   "cell_type": "code",
   "execution_count": null,
   "id": "2f2a1602",
   "metadata": {},
   "outputs": [],
   "source": [
    "# print(ur.get_tcp_speed(wait=False)[0])\n",
    "stop_dist = 0.05\n",
    "end_dist = 0.3\n",
    "reverse_vel = 0.4\n",
    "spd_detect = ur.get_tcp_speed(wait=False)[0]\n",
    "stop_dec = (spd_detect**2)/(2*stop_dist)\n",
    "ur.speedl([-reverse_vel,0,0,0,0,0],stop_dec,10)\n",
    "pos_dec = ur.getl()[0]\n",
    "while ur.get_tcp_speed(wait=False)[0] > 0:\n",
    "    continue\n",
    "pos_stop = ur.getl()[0]\n",
    "print(\"Reach zero vel!\")\n",
    "t_acc = reverse_vel / stop_dec\n",
    "s_acc = 0.5 * stop_dec * t_acc**2\n",
    "t_const = (end_dist-s_acc) / reverse_vel\n",
    "print(s_acc)\n",
    "print(t_acc+t_const)\n",
    "time.sleep(t_acc+t_const)\n",
    "ur.stopl(5)\n",
    "pos_end = ur.getl()[0]"
   ]
  },
  {
   "cell_type": "code",
   "execution_count": null,
   "id": "699e0de0",
   "metadata": {},
   "outputs": [],
   "source": [
    "ur.stopl(2)\n",
    "stop_dist = pos_stop - pos_dec\n",
    "reverse_dist = pos_end - pos_stop\n",
    "print(spd_detect)\n",
    "print(stop_dec)\n",
    "print(stop_dist)\n",
    "print(reverse_dist)"
   ]
  },
  {
   "cell_type": "code",
   "execution_count": null,
   "id": "5f04f05f",
   "metadata": {},
   "outputs": [],
   "source": [
    "pose = ur.get_pose()\n",
    "print(pose)\n",
    "print(ur.getl())"
   ]
  }
 ],
 "metadata": {
  "kernelspec": {
   "display_name": "Python 3",
   "language": "python",
   "name": "python3"
  },
  "language_info": {
   "codemirror_mode": {
    "name": "ipython",
    "version": 3
   },
   "file_extension": ".py",
   "mimetype": "text/x-python",
   "name": "python",
   "nbconvert_exporter": "python",
   "pygments_lexer": "ipython3",
   "version": "3.6.13"
  }
 },
 "nbformat": 4,
 "nbformat_minor": 5
}
